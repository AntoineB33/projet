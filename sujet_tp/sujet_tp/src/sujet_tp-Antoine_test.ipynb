{
 "cells": [
  {
   "cell_type": "markdown",
   "id": "1dbd7ba6-680c-4c00-a2ac-848d59d3aff5",
   "metadata": {},
   "source": [
    "# Clustering d'Images avec Scikit-learn et Visualisation avec Streamlit\n",
    "\n",
    "Le clustering est une technique d'apprentissage non supervisé qui permet de regrouper des données similaires en différents groupes ou clusters. Dans le contexte de l'analyse d'images, le clustering peut être utilisé pour segmenter des images, détecter des objets ou des régions d'intérêt, et comprendre la structure des données d'image. Ce TP vous guidera à travers le processus de clustering d'un ensemble d'images de chiffres manuscrits en utilisant l'algorithme K-Means et l'extraction de caractéristiques HOG et d'histogrammes de niveaux de gris. Vous visualiserez ensuite les résultats du clustering à l'aide de la bibliothèque Streamlit.\n",
    "\n",
    "\n",
    "À la fin de ce TP, vous aurez une compréhension pratique du processus de clustering d'images, de l'extraction de caractéristiques, de l'évaluation des performances et de la visualisation des résultats à l'aide de Streamlit. Ces compétences sont précieuses dans de nombreux domaines tels que la vision par ordinateur, le traitement d'images médicales, l'analyse de données d'imagerie satellitaire, et bien d'autres.\n"
   ]
  },
  {
   "cell_type": "code",
   "execution_count": 1,
   "id": "1b3c0df9-03cc-4b5d-a9c6-84254619130a",
   "metadata": {
    "tags": []
   },
   "outputs": [],
   "source": [
    "from sklearn.preprocessing import StandardScaler\n",
    "import os\n",
    "import pandas as pd\n",
    "from sklearn import datasets\n",
    "import plotly as plt\n",
    "import plotly.express as px\n",
    "from features import *\n",
    "from clustering import *\n",
    "from utils import *\n",
    "from constant import  PATH_OUTPUT, MODEL_CLUSTERING, PATH_DATA, PATH_DATA_ALL\n",
    "\n",
    "from sklearn.cluster import KMeans\n",
    "\n",
    "from sklearn.pipeline import Pipeline\n",
    "\n",
    "from skimage.transform import resize"
   ]
  },
  {
   "cell_type": "markdown",
   "id": "9b19d94b-0134-496a-82b0-5b4aa0a3dfa7",
   "metadata": {},
   "source": [
    "\n",
    "## Partie 1 : Création du modèle de clustering d'images\n",
    "#### (fichier pipeline.py)\n",
    "\n",
    "**1. Chargement des données d'images de chiffres manuscrits à partir du dataset Digits.**\n",
    "   - Vous utiliserez le célèbre dataset Digitis qui contient des images de chiffres manuscrits. Ce dataset est souvent utilisé pour tester des algorithmes de reconnaissance de chiffres et d'apprentissage automatique.\n",
    "\n"
   ]
  },
  {
   "cell_type": "code",
   "execution_count": 2,
   "metadata": {},
   "outputs": [],
   "source": [
    "from images import load_images_from_folder\n",
    "\n",
    "# Example usage:\n",
    "folder_path = PATH_DATA_ALL + \"/code_test\"\n",
    "images, labels_true, folder_names, smallest_height, smallest_width, smallest_height2, smallest_width2 = load_images_from_folder(folder_path)\n",
    "taille = len(images)\n",
    "nombre_de_canaux = 3\n",
    "# print(f\"Smallest height: {smallest_height}\")\n",
    "# print(f\"Smallest width: {smallest_width}\")\n",
    "# print(f\"Hightest height: {smallest_height2}\")\n",
    "# print(f\"Hightest width: {smallest_width2}\")"
   ]
  },
  {
   "cell_type": "markdown",
   "id": "26a1516b",
   "metadata": {},
   "source": [
    "**2. Extraction SIFT.**"
   ]
  },
  {
   "cell_type": "code",
   "execution_count": 3,
   "id": "a9ce0518",
   "metadata": {},
   "outputs": [],
   "source": [
    "descriptors_sift = compute_sift_descriptors(images)"
   ]
  },
  {
   "cell_type": "markdown",
   "id": "eb8e35eb-c5a6-468a-a725-c8b15fff0747",
   "metadata": {},
   "source": [
    "**2. Extraction des caractéristiques HOG (Histogrammes de Gradients Orientés) et des histogrammes de niveaux de gris à partir des images.**\n",
    "   - Les caractéristiques HOG capturent les informations de gradient et de bords dans les images, ce qui les rend utiles pour la reconnaissance d'objets et de formes.\n",
    "   - Les histogrammes de niveaux de gris représentent la distribution des intensités de pixels dans l'image, fournissant des informations sur la texture et les motifs.\n",
    "\n",
    "**TODO :**\n",
    "   - Implémentez les fonctions `compute_hog_descriptors` et `compute_gray_histograms` dans  le fichier `features.py`, utilisez respectivement les fonctions `hog` de  la librairie `skimage` et  `calcHist` de `cv2`.\n",
    "   - lien HOG : https://scikit-image.org/docs/stable/auto_examples/features_detection/plot_hog.html\n",
    "   - lien  histogrammes de niveaux de gris : https://pyimagesearch.com/2021/04/28/opencv-image-histograms-cv2-calchist/\n",
    "   "
   ]
  },
  {
   "cell_type": "code",
   "execution_count": 4,
   "id": "19233c48-b58c-4674-9d8b-1b3bdbdf5976",
   "metadata": {
    "tags": []
   },
   "outputs": [
    {
     "name": "stdout",
     "output_type": "stream",
     "text": [
      "\n",
      "\n",
      " ##### Extraction de Features ######\n",
      "- calcul features hog...\n",
      "- calcul features Histogram...\n"
     ]
    }
   ],
   "source": [
    "\n",
    "print(\"\\n\\n ##### Extraction de Features ######\")\n",
    "print(\"- calcul features hog...\")\n",
    "descriptors_hog = compute_hog_descriptors(images)\n",
    "print(\"- calcul features Histogram...\")\n",
    "descriptors_hist = compute_gray_histograms(images)"
   ]
  },
  {
   "cell_type": "code",
   "execution_count": 5,
   "id": "5169fe0b",
   "metadata": {},
   "outputs": [],
   "source": [
    "\n",
    "# Supposons que `images` est votre liste d'images en RGB\n",
    "descriptors_hsv = convert_color_space(images, \"HSV\") # ou \"Lab\""
   ]
  },
  {
   "cell_type": "markdown",
   "id": "83c62619",
   "metadata": {},
   "source": [
    "**3. Application de RBM et KMEANS**"
   ]
  },
  {
   "cell_type": "code",
   "execution_count": 7,
   "id": "3bed19a7",
   "metadata": {},
   "outputs": [
    {
     "name": "stdout",
     "output_type": "stream",
     "text": [
      "[BernoulliRBM] Iteration 1, pseudo-likelihood = -5609.64, time = 3.20s\n",
      "[BernoulliRBM] Iteration 2, pseudo-likelihood = -5568.63, time = 1.32s\n",
      "[BernoulliRBM] Iteration 3, pseudo-likelihood = -5518.53, time = 1.74s\n",
      "[BernoulliRBM] Iteration 4, pseudo-likelihood = -5501.42, time = 2.59s\n",
      "[BernoulliRBM] Iteration 5, pseudo-likelihood = -5547.98, time = 1.13s\n",
      "[BernoulliRBM] Iteration 6, pseudo-likelihood = -5433.69, time = 1.20s\n",
      "[BernoulliRBM] Iteration 7, pseudo-likelihood = -5396.89, time = 1.27s\n",
      "[BernoulliRBM] Iteration 8, pseudo-likelihood = -5271.54, time = 1.39s\n",
      "[BernoulliRBM] Iteration 9, pseudo-likelihood = -5270.87, time = 0.80s\n",
      "[BernoulliRBM] Iteration 10, pseudo-likelihood = -5222.80, time = 0.74s\n",
      "[BernoulliRBM] Iteration 1, pseudo-likelihood = -91.61, time = 0.02s\n",
      "[BernoulliRBM] Iteration 2, pseudo-likelihood = -63.73, time = 0.02s\n",
      "[BernoulliRBM] Iteration 3, pseudo-likelihood = -51.98, time = 0.01s\n",
      "[BernoulliRBM] Iteration 4, pseudo-likelihood = -42.11, time = 0.01s\n",
      "[BernoulliRBM] Iteration 5, pseudo-likelihood = -34.11, time = 0.01s\n",
      "[BernoulliRBM] Iteration 6, pseudo-likelihood = -32.15, time = 0.01s\n",
      "[BernoulliRBM] Iteration 7, pseudo-likelihood = -34.21, time = 0.01s\n",
      "[BernoulliRBM] Iteration 8, pseudo-likelihood = -28.19, time = 0.01s\n",
      "[BernoulliRBM] Iteration 9, pseudo-likelihood = -22.83, time = 0.01s\n",
      "[BernoulliRBM] Iteration 10, pseudo-likelihood = -27.08, time = 0.01s\n"
     ]
    }
   ],
   "source": [
    "from sklearn.preprocessing import StandardScaler\n",
    "\n",
    "descriptors = descriptors_hog\n",
    "\n",
    "# Présumons que `images` est votre liste d'images prétraitées et aplatie en vecteurs\n",
    "\n",
    "# Initialisation de la classe StackedRBM\n",
    "stacked_rbm = StackedRBM(n_components_list=[256, 128], n_iter=10, learning_rate=0.01, batch_size=10)\n",
    "\n",
    "# Ajustement des RBMs sur les données d'image\n",
    "stacked_rbm.fit(descriptors)\n",
    "\n",
    "# Transformation des images en nouvelles représentations avec les RBMs entraînés\n",
    "transformed_images = stacked_rbm.transform(descriptors)\n",
    "\n",
    "# Normalisation des caractéristiques pour améliorer les performances de K-Means\n",
    "scaler = StandardScaler()\n",
    "transformed_images_scaled = scaler.fit_transform(transformed_images)\n",
    "\n",
    "# Clustering avec K-Means\n",
    "kmeans = KMeans(n_clusters=20, random_state=42)\n",
    "clusters = kmeans.fit_predict(transformed_images_scaled)"
   ]
  },
  {
   "cell_type": "code",
   "execution_count": 8,
   "id": "93a94e6b",
   "metadata": {},
   "outputs": [
    {
     "name": "stdout",
     "output_type": "stream",
     "text": [
      "Silhouette Score: 0.26049589261513606\n"
     ]
    }
   ],
   "source": [
    "from sklearn.metrics import silhouette_score\n",
    "\n",
    "# Calcul du Silhouette Score\n",
    "score = silhouette_score(transformed_images_scaled, clusters)\n",
    "\n",
    "print(\"Silhouette Score:\", score)"
   ]
  },
  {
   "cell_type": "code",
   "execution_count": null,
   "id": "29cfa2ae",
   "metadata": {},
   "outputs": [
    {
     "name": "stdout",
     "output_type": "stream",
     "text": [
      "[BernoulliRBM] Iteration 1, pseudo-likelihood = -5630.31, time = 1.77s\n",
      "[BernoulliRBM] Iteration 2, pseudo-likelihood = -5558.45, time = 1.13s\n",
      "[BernoulliRBM] Iteration 3, pseudo-likelihood = -5527.02, time = 1.56s\n",
      "[BernoulliRBM] Iteration 4, pseudo-likelihood = -5504.76, time = 1.68s\n",
      "[BernoulliRBM] Iteration 5, pseudo-likelihood = -5457.54, time = 1.12s\n",
      "[BernoulliRBM] Iteration 6, pseudo-likelihood = -5348.12, time = 0.72s\n",
      "[BernoulliRBM] Iteration 7, pseudo-likelihood = -5494.54, time = 0.74s\n",
      "[BernoulliRBM] Iteration 8, pseudo-likelihood = -5310.72, time = 0.63s\n",
      "[BernoulliRBM] Iteration 9, pseudo-likelihood = -5333.03, time = 0.75s\n",
      "[BernoulliRBM] Iteration 10, pseudo-likelihood = -5231.09, time = 0.60s\n",
      "[BernoulliRBM] Iteration 1, pseudo-likelihood = -89.71, time = 0.01s\n",
      "[BernoulliRBM] Iteration 2, pseudo-likelihood = -69.33, time = 0.01s\n",
      "[BernoulliRBM] Iteration 3, pseudo-likelihood = -52.75, time = 0.01s\n",
      "[BernoulliRBM] Iteration 4, pseudo-likelihood = -49.30, time = 0.01s\n",
      "[BernoulliRBM] Iteration 5, pseudo-likelihood = -38.31, time = 0.01s\n",
      "[BernoulliRBM] Iteration 6, pseudo-likelihood = -26.65, time = 0.01s\n",
      "[BernoulliRBM] Iteration 7, pseudo-likelihood = -33.90, time = 0.01s\n",
      "[BernoulliRBM] Iteration 8, pseudo-likelihood = -34.33, time = 0.01s\n",
      "[BernoulliRBM] Iteration 9, pseudo-likelihood = -43.73, time = 0.01s\n",
      "[BernoulliRBM] Iteration 10, pseudo-likelihood = -16.49, time = 0.01s\n"
     ]
    }
   ],
   "source": [
    "# Étape 1: Initialisation de StackedRBM\n",
    "stacked_rbm = StackedRBM(n_components_list=[256, 128], n_iter=10, learning_rate=0.01, batch_size=10)\n",
    "\n",
    "# Étape 2: Entraînement de StackedRBM\n",
    "stacked_rbm.fit(descriptors_hog)\n",
    "\n",
    "# Étape 3: Transformation des données à l'aide de StackedRBM\n",
    "X_transformed = stacked_rbm.transform(descriptors_hog)\n",
    "\n",
    "# Étape 4: Application du clustering sur les données transformées\n",
    "kmeans = KMeans(n_clusters=20)  # Choisissez un nombre approprié de clusters\n",
    "kmeans.fit(X_transformed)\n",
    "\n",
    "# Les étiquettes de cluster pour chaque image\n",
    "cluster_labels = kmeans.labels_"
   ]
  },
  {
   "cell_type": "markdown",
   "id": "abe52a33",
   "metadata": {},
   "source": [
    "**3. Application de RBM et CNN**"
   ]
  },
  {
   "cell_type": "code",
   "execution_count": null,
   "id": "d0b92f41",
   "metadata": {},
   "outputs": [
    {
     "name": "stdout",
     "output_type": "stream",
     "text": [
      "1\n"
     ]
    },
    {
     "name": "stderr",
     "output_type": "stream",
     "text": [
      "c:\\Users\\comma\\AppData\\Local\\Programs\\Python\\Python311\\Lib\\site-packages\\keras\\src\\layers\\convolutional\\base_conv.py:99: UserWarning:\n",
      "\n",
      "Do not pass an `input_shape`/`input_dim` argument to a layer. When using Sequential models, prefer using an `Input(shape)` object as the first layer in the model instead.\n",
      "\n"
     ]
    },
    {
     "name": "stdout",
     "output_type": "stream",
     "text": [
      "[BernoulliRBM] Iteration 1, pseudo-likelihood = -5502.63, time = 0.60s\n",
      "[BernoulliRBM] Iteration 2, pseudo-likelihood = -7134.71, time = 0.60s\n",
      "[BernoulliRBM] Iteration 3, pseudo-likelihood = -6887.70, time = 0.60s\n",
      "[BernoulliRBM] Iteration 4, pseudo-likelihood = -7660.17, time = 0.67s\n",
      "[BernoulliRBM] Iteration 5, pseudo-likelihood = -10870.58, time = 0.67s\n",
      "[BernoulliRBM] Iteration 6, pseudo-likelihood = -5465.81, time = 0.64s\n",
      "[BernoulliRBM] Iteration 7, pseudo-likelihood = -27235.61, time = 0.55s\n",
      "[BernoulliRBM] Iteration 8, pseudo-likelihood = -28492.69, time = 0.56s\n",
      "[BernoulliRBM] Iteration 9, pseudo-likelihood = -20220.36, time = 0.59s\n",
      "[BernoulliRBM] Iteration 10, pseudo-likelihood = -9981.93, time = 0.58s\n",
      "[BernoulliRBM] Iteration 1, pseudo-likelihood = -139.65, time = 0.01s\n",
      "[BernoulliRBM] Iteration 2, pseudo-likelihood = -123.65, time = 0.01s\n",
      "[BernoulliRBM] Iteration 3, pseudo-likelihood = -123.05, time = 0.01s\n",
      "[BernoulliRBM] Iteration 4, pseudo-likelihood = -111.13, time = 0.01s\n",
      "[BernoulliRBM] Iteration 5, pseudo-likelihood = -95.86, time = 0.01s\n",
      "[BernoulliRBM] Iteration 6, pseudo-likelihood = -95.52, time = 0.01s\n",
      "[BernoulliRBM] Iteration 7, pseudo-likelihood = -100.76, time = 0.01s\n",
      "[BernoulliRBM] Iteration 8, pseudo-likelihood = -89.77, time = 0.01s\n",
      "[BernoulliRBM] Iteration 9, pseudo-likelihood = -93.14, time = 0.01s\n",
      "[BernoulliRBM] Iteration 10, pseudo-likelihood = -111.04, time = 0.01s\n",
      "Epoch 1/10\n"
     ]
    },
    {
     "ename": "ValueError",
     "evalue": "Exception encountered when calling Sequential.call().\n\n\u001b[1mInvalid input shape for input Tensor(\"data:0\", shape=(None, 128), dtype=float32). Expected shape (None, 42, 42, 3), but input has incompatible shape (None, 128)\u001b[0m\n\nArguments received by Sequential.call():\n  • inputs=tf.Tensor(shape=(None, 128), dtype=float32)\n  • training=True\n  • mask=None",
     "output_type": "error",
     "traceback": [
      "\u001b[1;31m---------------------------------------------------------------------------\u001b[0m",
      "\u001b[1;31mValueError\u001b[0m                                Traceback (most recent call last)",
      "Cell \u001b[1;32mIn[10], line 12\u001b[0m\n\u001b[0;32m      5\u001b[0m pipeline_hog \u001b[38;5;241m=\u001b[39m Pipeline([\n\u001b[0;32m      6\u001b[0m     (\u001b[38;5;124m'\u001b[39m\u001b[38;5;124mscaler\u001b[39m\u001b[38;5;124m'\u001b[39m, StandardScaler()),  \u001b[38;5;66;03m# Normalisation des données\u001b[39;00m\n\u001b[0;32m      7\u001b[0m     (\u001b[38;5;124m'\u001b[39m\u001b[38;5;124mrbm\u001b[39m\u001b[38;5;124m'\u001b[39m, rbm),  \u001b[38;5;66;03m# Réduction de dimensionnalité avec RBM\u001b[39;00m\n\u001b[0;32m      8\u001b[0m     (\u001b[38;5;124m'\u001b[39m\u001b[38;5;124mcnn_clustering\u001b[39m\u001b[38;5;124m'\u001b[39m, cnn_clustering)  \u001b[38;5;66;03m# Clustering avec CNN\u001b[39;00m\n\u001b[0;32m      9\u001b[0m ])\n\u001b[0;32m     11\u001b[0m \u001b[38;5;66;03m# Entraînez et transformez les descripteurs HOG\u001b[39;00m\n\u001b[1;32m---> 12\u001b[0m \u001b[43mpipeline_hog\u001b[49m\u001b[38;5;241;43m.\u001b[39;49m\u001b[43mfit\u001b[49m\u001b[43m(\u001b[49m\u001b[43mdescriptors_hog\u001b[49m\u001b[43m)\u001b[49m\n\u001b[0;32m     13\u001b[0m hog_clusters \u001b[38;5;241m=\u001b[39m pipeline_hog\u001b[38;5;241m.\u001b[39mtransform(descriptors_hog)\n\u001b[0;32m     15\u001b[0m \u001b[38;5;66;03m# Calcul et affichage du score AMI pour HOG\u001b[39;00m\n",
      "File \u001b[1;32mc:\\Users\\comma\\AppData\\Local\\Programs\\Python\\Python311\\Lib\\site-packages\\sklearn\\base.py:1474\u001b[0m, in \u001b[0;36m_fit_context.<locals>.decorator.<locals>.wrapper\u001b[1;34m(estimator, *args, **kwargs)\u001b[0m\n\u001b[0;32m   1467\u001b[0m     estimator\u001b[38;5;241m.\u001b[39m_validate_params()\n\u001b[0;32m   1469\u001b[0m \u001b[38;5;28;01mwith\u001b[39;00m config_context(\n\u001b[0;32m   1470\u001b[0m     skip_parameter_validation\u001b[38;5;241m=\u001b[39m(\n\u001b[0;32m   1471\u001b[0m         prefer_skip_nested_validation \u001b[38;5;129;01mor\u001b[39;00m global_skip_validation\n\u001b[0;32m   1472\u001b[0m     )\n\u001b[0;32m   1473\u001b[0m ):\n\u001b[1;32m-> 1474\u001b[0m     \u001b[38;5;28;01mreturn\u001b[39;00m \u001b[43mfit_method\u001b[49m\u001b[43m(\u001b[49m\u001b[43mestimator\u001b[49m\u001b[43m,\u001b[49m\u001b[43m \u001b[49m\u001b[38;5;241;43m*\u001b[39;49m\u001b[43margs\u001b[49m\u001b[43m,\u001b[49m\u001b[43m \u001b[49m\u001b[38;5;241;43m*\u001b[39;49m\u001b[38;5;241;43m*\u001b[39;49m\u001b[43mkwargs\u001b[49m\u001b[43m)\u001b[49m\n",
      "File \u001b[1;32mc:\\Users\\comma\\AppData\\Local\\Programs\\Python\\Python311\\Lib\\site-packages\\sklearn\\pipeline.py:475\u001b[0m, in \u001b[0;36mPipeline.fit\u001b[1;34m(self, X, y, **params)\u001b[0m\n\u001b[0;32m    473\u001b[0m     \u001b[38;5;28;01mif\u001b[39;00m \u001b[38;5;28mself\u001b[39m\u001b[38;5;241m.\u001b[39m_final_estimator \u001b[38;5;241m!=\u001b[39m \u001b[38;5;124m\"\u001b[39m\u001b[38;5;124mpassthrough\u001b[39m\u001b[38;5;124m\"\u001b[39m:\n\u001b[0;32m    474\u001b[0m         last_step_params \u001b[38;5;241m=\u001b[39m routed_params[\u001b[38;5;28mself\u001b[39m\u001b[38;5;241m.\u001b[39msteps[\u001b[38;5;241m-\u001b[39m\u001b[38;5;241m1\u001b[39m][\u001b[38;5;241m0\u001b[39m]]\n\u001b[1;32m--> 475\u001b[0m         \u001b[38;5;28;43mself\u001b[39;49m\u001b[38;5;241;43m.\u001b[39;49m\u001b[43m_final_estimator\u001b[49m\u001b[38;5;241;43m.\u001b[39;49m\u001b[43mfit\u001b[49m\u001b[43m(\u001b[49m\u001b[43mXt\u001b[49m\u001b[43m,\u001b[49m\u001b[43m \u001b[49m\u001b[43my\u001b[49m\u001b[43m,\u001b[49m\u001b[43m \u001b[49m\u001b[38;5;241;43m*\u001b[39;49m\u001b[38;5;241;43m*\u001b[39;49m\u001b[43mlast_step_params\u001b[49m\u001b[43m[\u001b[49m\u001b[38;5;124;43m\"\u001b[39;49m\u001b[38;5;124;43mfit\u001b[39;49m\u001b[38;5;124;43m\"\u001b[39;49m\u001b[43m]\u001b[49m\u001b[43m)\u001b[49m\n\u001b[0;32m    477\u001b[0m \u001b[38;5;28;01mreturn\u001b[39;00m \u001b[38;5;28mself\u001b[39m\n",
      "File \u001b[1;32mc:\\Users\\comma\\Documents\\travail\\Polytech\\s8\\apprentissage_automatique\\projet\\sujet_tp\\sujet_tp\\src\\clustering.py:95\u001b[0m, in \u001b[0;36mCNNClustering.fit\u001b[1;34m(self, X, y)\u001b[0m\n\u001b[0;32m     92\u001b[0m X_transformed \u001b[38;5;241m=\u001b[39m \u001b[38;5;28mself\u001b[39m\u001b[38;5;241m.\u001b[39m_preprocess_data(X)\n\u001b[0;32m     93\u001b[0m \u001b[38;5;66;03m# CNNs exigent des étiquettes pour l'apprentissage supervisé, mais vous pouvez utiliser des techniques non supervisées\u001b[39;00m\n\u001b[0;32m     94\u001b[0m \u001b[38;5;66;03m# pour générer des étiquettes temporaires si nécessaire ou ajuster cette méthode selon vos besoins.\u001b[39;00m\n\u001b[1;32m---> 95\u001b[0m \u001b[38;5;28;43mself\u001b[39;49m\u001b[38;5;241;43m.\u001b[39;49m\u001b[43mmodel\u001b[49m\u001b[38;5;241;43m.\u001b[39;49m\u001b[43mfit\u001b[49m\u001b[43m(\u001b[49m\u001b[43mX_transformed\u001b[49m\u001b[43m,\u001b[49m\u001b[43m \u001b[49m\u001b[43my\u001b[49m\u001b[43m,\u001b[49m\u001b[43m \u001b[49m\u001b[43mepochs\u001b[49m\u001b[38;5;241;43m=\u001b[39;49m\u001b[38;5;28;43mself\u001b[39;49m\u001b[38;5;241;43m.\u001b[39;49m\u001b[43mepochs\u001b[49m\u001b[43m,\u001b[49m\u001b[43m \u001b[49m\u001b[43mbatch_size\u001b[49m\u001b[38;5;241;43m=\u001b[39;49m\u001b[38;5;28;43mself\u001b[39;49m\u001b[38;5;241;43m.\u001b[39;49m\u001b[43mbatch_size\u001b[49m\u001b[43m)\u001b[49m\n\u001b[0;32m     96\u001b[0m \u001b[38;5;28;01mreturn\u001b[39;00m \u001b[38;5;28mself\u001b[39m\n",
      "File \u001b[1;32mc:\\Users\\comma\\AppData\\Local\\Programs\\Python\\Python311\\Lib\\site-packages\\keras\\src\\utils\\traceback_utils.py:122\u001b[0m, in \u001b[0;36mfilter_traceback.<locals>.error_handler\u001b[1;34m(*args, **kwargs)\u001b[0m\n\u001b[0;32m    119\u001b[0m     filtered_tb \u001b[38;5;241m=\u001b[39m _process_traceback_frames(e\u001b[38;5;241m.\u001b[39m__traceback__)\n\u001b[0;32m    120\u001b[0m     \u001b[38;5;66;03m# To get the full stack trace, call:\u001b[39;00m\n\u001b[0;32m    121\u001b[0m     \u001b[38;5;66;03m# `keras.config.disable_traceback_filtering()`\u001b[39;00m\n\u001b[1;32m--> 122\u001b[0m     \u001b[38;5;28;01mraise\u001b[39;00m e\u001b[38;5;241m.\u001b[39mwith_traceback(filtered_tb) \u001b[38;5;28;01mfrom\u001b[39;00m \u001b[38;5;28;01mNone\u001b[39;00m\n\u001b[0;32m    123\u001b[0m \u001b[38;5;28;01mfinally\u001b[39;00m:\n\u001b[0;32m    124\u001b[0m     \u001b[38;5;28;01mdel\u001b[39;00m filtered_tb\n",
      "File \u001b[1;32mc:\\Users\\comma\\AppData\\Local\\Programs\\Python\\Python311\\Lib\\site-packages\\keras\\src\\models\\functional.py:280\u001b[0m, in \u001b[0;36mFunctional._adjust_input_rank\u001b[1;34m(self, flat_inputs)\u001b[0m\n\u001b[0;32m    278\u001b[0m             adjusted\u001b[38;5;241m.\u001b[39mappend(ops\u001b[38;5;241m.\u001b[39mexpand_dims(x, axis\u001b[38;5;241m=\u001b[39m\u001b[38;5;241m-\u001b[39m\u001b[38;5;241m1\u001b[39m))\n\u001b[0;32m    279\u001b[0m             \u001b[38;5;28;01mcontinue\u001b[39;00m\n\u001b[1;32m--> 280\u001b[0m     \u001b[38;5;28;01mraise\u001b[39;00m \u001b[38;5;167;01mValueError\u001b[39;00m(\n\u001b[0;32m    281\u001b[0m         \u001b[38;5;124mf\u001b[39m\u001b[38;5;124m\"\u001b[39m\u001b[38;5;124mInvalid input shape for input \u001b[39m\u001b[38;5;132;01m{\u001b[39;00mx\u001b[38;5;132;01m}\u001b[39;00m\u001b[38;5;124m. Expected shape \u001b[39m\u001b[38;5;124m\"\u001b[39m\n\u001b[0;32m    282\u001b[0m         \u001b[38;5;124mf\u001b[39m\u001b[38;5;124m\"\u001b[39m\u001b[38;5;132;01m{\u001b[39;00mref_shape\u001b[38;5;132;01m}\u001b[39;00m\u001b[38;5;124m, but input has incompatible shape \u001b[39m\u001b[38;5;132;01m{\u001b[39;00mx\u001b[38;5;241m.\u001b[39mshape\u001b[38;5;132;01m}\u001b[39;00m\u001b[38;5;124m\"\u001b[39m\n\u001b[0;32m    283\u001b[0m     )\n\u001b[0;32m    284\u001b[0m \u001b[38;5;66;03m# Add back metadata.\u001b[39;00m\n\u001b[0;32m    285\u001b[0m \u001b[38;5;28;01mfor\u001b[39;00m i \u001b[38;5;129;01min\u001b[39;00m \u001b[38;5;28mrange\u001b[39m(\u001b[38;5;28mlen\u001b[39m(flat_inputs)):\n",
      "\u001b[1;31mValueError\u001b[0m: Exception encountered when calling Sequential.call().\n\n\u001b[1mInvalid input shape for input Tensor(\"data:0\", shape=(None, 128), dtype=float32). Expected shape (None, 42, 42, 3), but input has incompatible shape (None, 128)\u001b[0m\n\nArguments received by Sequential.call():\n  • inputs=tf.Tensor(shape=(None, 128), dtype=float32)\n  • training=True\n  • mask=None"
     ]
    }
   ],
   "source": [
    "# rbm = StackedRBM(n_components_list=[256, 128], n_iter=10, learning_rate=0.01, batch_size=10)\n",
    "# cnn_clustering = CNNClustering(input_shape=(taille, taille, nombre_de_canaux), n_clusters=20, learning_rate=0.001, epochs=10, batch_size=32)\n",
    "\n",
    "# # Pipeline pour HOG\n",
    "# pipeline_hog = Pipeline([\n",
    "#     ('scaler', StandardScaler()),  # Normalisation des données\n",
    "#     ('rbm', rbm),  # Réduction de dimensionnalité avec RBM\n",
    "#     ('cnn_clustering', cnn_clustering)  # Clustering avec CNN\n",
    "# ])\n",
    "\n",
    "# # Entraînez et transformez les descripteurs HOG\n",
    "# pipeline_hog.fit(descriptors_hog)\n",
    "# hog_clusters = pipeline_hog.transform(descriptors_hog)\n",
    "\n",
    "# # Calcul et affichage du score AMI pour HOG\n",
    "# metric_hog = show_metric(labels_true, hog_clusters, bool_show=True, name_descriptor=\"HOG\", bool_return=True)\n"
   ]
  },
  {
   "cell_type": "markdown",
   "id": "6c041906-7aa1-464a-97d3-e961976c56a2",
   "metadata": {},
   "source": [
    "\n",
    "**3. Application de l'algorithme K-Means sur les caractéristiques extraites pour obtenir les clusters.**\n",
    "   - L'algorithme K-Means est un algorithme de clustering populaire qui partitionne les données en K clusters en minimisant la somme des carrés des distances entre les points de données et les centroïdes des clusters.\n",
    "   \n",
    "   \n",
    " \n",
    " **TODO :**\n",
    "   - Dans le fichier `clustering.py` implémentez les fonctions `initialize_centers()`, `nearest_cluster()` et `fit()` du KMeans.\n",
    "   "
   ]
  },
  {
   "cell_type": "code",
   "execution_count": null,
   "id": "89e393e9-d74f-4e11-90b2-e84552578399",
   "metadata": {},
   "outputs": [],
   "source": [
    "class KMeans2:\n",
    "    def __init__(self, n_clusters=10, max_iter=300, random_state=None):\n",
    "        \"\"\"\n",
    "        Initialise un objet KMeans.\n",
    "\n",
    "        Entrées:\n",
    "        - n_clusters (int): Le nombre de clusters à former (par défaut 8).\n",
    "        - max_iter (int): Le nombre maximum d'itérations pour l'algorithme (par défaut 300).\n",
    "        - random_state (int ou None): La graine pour initialiser le générateur de nombres aléatoires (par défaut None).\n",
    "        \"\"\"\n",
    "        self.n_clusters = n_clusters\n",
    "        self.max_iter = max_iter\n",
    "        self.random_state = random_state\n",
    "        self.cluster_centers_ = None\n",
    "        self.labels_ = None\n",
    "\n",
    "    def initialize_centers(self, X):\n",
    "        \"\"\"\n",
    "        Initialise les centres de clusters avec n_clusters points choisis aléatoirement à partir des données X.\n",
    "\n",
    "        Entrée:\n",
    "        - X (np.array): Les données d'entrée.\n",
    "\n",
    "        Sortie:\n",
    "        - Aucune sortie directe, mais les centres de clusters sont stockés dans self.cluster_centers_.\n",
    "        \"\"\"\n",
    "        if self.random_state is not None:\n",
    "            np.random.seed(self.random_state)\n",
    "\n",
    "        # Randomly select n_clusters points as initial cluster centers\n",
    "        indices = np.random.choice(X.shape[0], self.n_clusters, replace=False)\n",
    "        self.cluster_centers_ = X[indices]\n",
    "\n",
    "    def nearest_cluster(self, X):\n",
    "        \"\"\"\n",
    "        Calcule la distance euclidienne entre chaque point de X et les centres de clusters,\n",
    "        puis retourne l'indice du cluster le plus proche pour chaque point.\n",
    "\n",
    "        Entrée:\n",
    "        - X (np.array): Les données d'entrée.\n",
    "\n",
    "        Sortie:\n",
    "        - np.array: Un tableau d'indices représentant le cluster le plus proche pour chaque point.\n",
    "        \"\"\"\n",
    "        # Calculate Euclidean distances between each point and cluster centers\n",
    "        distances = np.sqrt(((X[:, np.newaxis] - self.cluster_centers_)**2).sum(axis=2))\n",
    "\n",
    "        # Get the index of the nearest cluster for each point\n",
    "        nearest_cluster_indices = np.argmin(distances, axis=1)\n",
    "        return nearest_cluster_indices\n",
    "\n",
    "    def fit(self, X):\n",
    "        \"\"\"\n",
    "        Exécute l'algorithme K-means sur les données X.\n",
    "\n",
    "        Entrée:\n",
    "        - X (np.array): Les données d'entrée.\n",
    "\n",
    "        Sortie:\n",
    "        - Aucune sortie directe, mais les centres de clusters sont stockés dans self.cluster_centers_.\n",
    "        \"\"\"\n",
    "        # Initialize cluster centers\n",
    "        self.initialize_centers(X)\n",
    "\n",
    "        for _ in range(self.max_iter):\n",
    "            # Assign each point to the nearest cluster\n",
    "            self.labels_ = self.nearest_cluster(X)\n",
    "\n",
    "            # Update cluster centers\n",
    "            new_centers = np.array([X[self.labels_ == k].mean(axis=0) for k in range(self.n_clusters)])\n",
    "\n",
    "            # Check for convergence\n",
    "            if np.allclose(self.cluster_centers_, new_centers):\n",
    "                break\n",
    "\n",
    "            self.cluster_centers_ = new_centers"
   ]
  },
  {
   "cell_type": "code",
   "execution_count": null,
   "id": "828857ee-a9eb-456d-afe3-5ec3a9aabc7c",
   "metadata": {
    "tags": []
   },
   "outputs": [
    {
     "name": "stdout",
     "output_type": "stream",
     "text": [
      "\n",
      "\n",
      " ##### Clustering ######\n",
      "[0.42270425 0.42270425 0.42270425 0.10335017 0.20486898 0.34151087\n",
      " 0.35179412 0.41342715]\n",
      "- calcul kmeans avec features HOG ...\n"
     ]
    },
    {
     "name": "stdout",
     "output_type": "stream",
     "text": [
      "- calcul kmeans avec features Histogram...\n"
     ]
    }
   ],
   "source": [
    "# print(\"\\n\\n ##### Clustering ######\")\n",
    "# print(np.array(descriptors_hog)[0])\n",
    "# number_cluster = 20\n",
    "# kmeans_hog = KMeans(n_clusters=number_cluster)\n",
    "# kmeans_hist = KMeans(n_clusters=number_cluster)\n",
    "\n",
    "# print(\"- calcul kmeans avec features HOG ...\")\n",
    "# kmeans_hog.fit(np.array(descriptors_hog))\n",
    "# y_kmeans_hog = kmeans_hog.predict(np.array(descriptors_hog))\n",
    "# print(\"- calcul kmeans avec features Histogram...\")\n",
    "# kmeans_hist.fit(np.array(descriptors_hist))\n",
    "# y_kmeans_hist = kmeans_hist.predict(np.array(descriptors_hist))"
   ]
  },
  {
   "cell_type": "markdown",
   "id": "bac53ab9-35f5-463d-b1f1-23a97b0deda3",
   "metadata": {},
   "source": [
    "**4. Évaluation des performances du clustering en utilisant des métriques**\n",
    "- Score AMI (Adjusted Mutual Information) : \n",
    "    Le score AMI renvoie une valeur de 1 lorsque les deux partitions sont identiques (c'est-à-dire parfaitement appariées). Les partitions aléatoires (étiquetages indépendants) ont un score attendu autour de 0.\n",
    "    "
   ]
  },
  {
   "cell_type": "code",
   "execution_count": null,
   "id": "292f0e85-6e4c-4650-8e8a-5e7ba9303160",
   "metadata": {
    "scrolled": true,
    "tags": []
   },
   "outputs": [
    {
     "name": "stdout",
     "output_type": "stream",
     "text": [
      "\n",
      "\n",
      "##### Résultat ######\n",
      "########## Métrique descripteur : HISTOGRAM\n",
      "Adjusted Mutual Information: 0.07769672243294264\n",
      "\n",
      "\n",
      "\n",
      "########## Métrique descripteur : HOG\n",
      "Adjusted Mutual Information: 0.15137967745185674\n"
     ]
    }
   ],
   "source": [
    "\n",
    "print(\"\\n\\n##### Résultat ######\")\n",
    "metric_hist = show_metric(labels_true, kmeans_hist.labels_, descriptors_hist, bool_show=True, name_descriptor=\"HISTOGRAM\", bool_return=True)\n",
    "print(\"\\n\\n\")\n",
    "metric_hog = show_metric(labels_true, kmeans_hog.labels_, descriptors_hog,bool_show=True, name_descriptor=\"HOG\", bool_return=True)\n"
   ]
  },
  {
   "cell_type": "markdown",
   "id": "3aa4d497-034b-4fa3-a9fe-7c4c603c75df",
   "metadata": {
    "tags": []
   },
   "source": [
    "**5. Conversion des données de clustering au format requis pour la visualisation avec Streamlit.**\n",
    "\n",
    "**TODO :**\n",
    "- Dans le fichier `utils.py`, implémenter la fonction `conversion_3d` afin de convertir un vecteur de dimension n vers une dimension 3 pour a visualisation.\n",
    "- Lien : https://scikit-learn.org/stable/modules/generated/sklearn.manifold.TSNE.html"
   ]
  },
  {
   "cell_type": "code",
   "execution_count": null,
   "id": "2c6bd3b8-fdf5-44dd-9598-bb6bf78be66c",
   "metadata": {
    "tags": []
   },
   "outputs": [],
   "source": [
    "list_dict = [metric_hist, metric_hog]\n",
    "df_metric = pd.DataFrame(list_dict)\n",
    "\n",
    "scaler = StandardScaler()\n",
    "descriptors_hist_norm = scaler.fit_transform(descriptors_hist)\n",
    "descriptors_hog_norm = scaler.fit_transform(descriptors_hog)\n",
    "\n",
    "#conversion vers un format 3D pour la visualisation\n",
    "x_3d_hist = conversion_3d(descriptors_hist_norm)\n",
    "x_3d_hog = conversion_3d(descriptors_hog_norm)\n",
    "\n",
    "# création des dataframe pour la sauvegarde des données pour la visualisation\n",
    "df_hist = create_df_to_export(x_3d_hist, labels_true, kmeans_hist.labels_)\n",
    "df_hog = create_df_to_export(x_3d_hog, labels_true, kmeans_hog.labels_)\n",
    "\n",
    "# Vérifie si le dossier existe déjà\n",
    "if not os.path.exists(PATH_OUTPUT):\n",
    "    # Crée le dossier\n",
    "    os.makedirs(PATH_OUTPUT)\n",
    "\n",
    "# sauvegarde des données\n",
    "df_hist.to_excel(PATH_OUTPUT+\"/save_clustering_hist_kmeans.xlsx\")\n",
    "df_hog.to_excel(PATH_OUTPUT+\"/save_clustering_hog_kmeans.xlsx\")\n",
    "df_metric.to_excel(PATH_OUTPUT+\"/save_metric.xlsx\")\n",
    "\n",
    "\n"
   ]
  },
  {
   "cell_type": "markdown",
   "id": "c70259bc-25c0-4090-8d73-448744b7146d",
   "metadata": {},
   "source": [
    "***6. Création du fichier pipeline.py*** \n",
    "- Mettez au propre le code dans le fichier pipeline.py\n",
    "- Puis exécutez :  `python pipeline.py `\n",
    "\n",
    "\n",
    "***7. Analyse des résultats***\n",
    "- Que penseez-vous des résultats que vous avez obtenu ?\n",
    "- Relancer toute la pipeline avec un pré-traitement des images, comme augmenter le contrasse afin faire sortir la forme des objets. Et que remarquez-vous ?"
   ]
  },
  {
   "cell_type": "markdown",
   "id": "7006f6f8-07fa-40fd-ba69-e3067da9a851",
   "metadata": {},
   "source": [
    "\n",
    "## Partie 2 : Visualisation des résultats du clustering avec Streamlit\n",
    "### (fichier dashboad_clustering.py)\n",
    "\n",
    "Cette partie constituera le rendu final du TP. Nous développerons une application Streamlit pour visualiser et analyser les résultats du clustering.\n",
    "\n",
    "L'application permettra de :\n",
    "\n",
    "***1. Visualisation 3D du clustering***\n",
    "- Nous créerons une visualisation 3D interactive des clusters obtenus, avec la possibilité de mettre en évidence un cluster spécifique et d'afficher des exemples d'images appartenant à ce cluster.\n",
    "\n",
    "***TODO :***\n",
    "- Utilizer la fonction `scatter_3d()` pour faire un plot 3D du clustering.\n",
    "- lien : https://plotly.com/python/3d-scatter-plots/\n",
    "\n",
    "\n"
   ]
  },
  {
   "cell_type": "code",
   "execution_count": null,
   "id": "80e39c33-376c-4343-b684-f329c308934a",
   "metadata": {
    "tags": []
   },
   "outputs": [],
   "source": [
    "import matplotlib.pyplot as plt\n",
    "import plotly.express as px"
   ]
  },
  {
   "cell_type": "markdown",
   "id": "e12b5900-c781-478a-b79f-9bdaecf926d6",
   "metadata": {
    "tags": []
   },
   "source": [
    "\n",
    "***2. Métriques d'évaluation***\n",
    "- Nous calculerons et afficherons diverses métriques d'évaluation, telles que le score AMI (Adjusted Mutual Information), pour quantifier la qualité du clustering obtenu avec chaque descripteur.\n",
    "\n",
    "***TODO :*** \n",
    "- Utilisez la fonction `px.bar()` pour afficher un histogramme du score AMI.\n",
    "- lien : https://plotly.com/python/horizontal-bar-charts/"
   ]
  },
  {
   "cell_type": "code",
   "execution_count": null,
   "id": "a019c6f6-5f7e-4a08-9e55-27d051cc1c93",
   "metadata": {
    "tags": []
   },
   "outputs": [],
   "source": [
    "graph_size = 300\n"
   ]
  },
  {
   "cell_type": "markdown",
   "id": "a500c3ef-eaa5-43b0-8a0f-738dd659a6d3",
   "metadata": {
    "tags": []
   },
   "source": [
    "***3. Finalisation du fichier dashboard_clustering.py***\n",
    "\n",
    "***TODO :***\n",
    "- Ajoutez les graphiques dans le fichier, puis lancez la commande :  `streamlit run dashboard_clustering.py `"
   ]
  },
  {
   "cell_type": "code",
   "execution_count": null,
   "id": "566d5ed6-d565-49da-9297-4d4697469fba",
   "metadata": {},
   "outputs": [],
   "source": []
  },
  {
   "cell_type": "code",
   "execution_count": null,
   "id": "35da379c-e9d0-4249-9fb4-2910b6f3e29e",
   "metadata": {},
   "outputs": [],
   "source": []
  },
  {
   "cell_type": "code",
   "execution_count": null,
   "id": "d967e4b2-7124-4dae-bc4c-407e992ccdfc",
   "metadata": {},
   "outputs": [],
   "source": []
  },
  {
   "cell_type": "code",
   "execution_count": null,
   "id": "21e450cc-d761-4f19-bb8c-a4b43bab3dae",
   "metadata": {},
   "outputs": [],
   "source": []
  },
  {
   "cell_type": "code",
   "execution_count": null,
   "id": "a8b46bda-86fb-47fa-8480-7452866da9d3",
   "metadata": {},
   "outputs": [
    {
     "data": {
      "image/png": "[encoded data removed]",
      "text/plain": [
       "<Figure size 640x480 with 1 Axes>"
      ]
     },
     "metadata": {},
     "output_type": "display_data"
    }
   ],
   "source": [
    "#KMEANS OPTIMIZED\n",
    "import numpy as np\n",
    "import matplotlib.pyplot as plt\n",
    "from sklearn.datasets import make_blobs\n",
    "from sklearn.cluster import KMeans\n",
    "\n",
    "# Générer des données synthétiques\n",
    "X, _ = make_blobs(n_samples=300, centers=4, cluster_std=0.60, random_state=0)\n",
    "\n",
    "# Créer un objet KMeans avec 4 clusters\n",
    "kmeans = KMeans(n_clusters=4)\n",
    "\n",
    "# Adapter le modèle aux données\n",
    "kmeans.fit(X)\n",
    "\n",
    "# Prévoir les clusters pour chaque point de données\n",
    "y_kmeans = kmeans.predict(X)\n",
    "\n",
    "# Afficher les clusters et les centres\n",
    "plt.scatter(X[:, 0], X[:, 1], c=y_kmeans, s=50, cmap='viridis')\n",
    "centers = kmeans.cluster_centers_\n",
    "plt.scatter(centers[:, 0], centers[:, 1], c='red', s=200, alpha=0.5)\n",
    "plt.xlabel('Feature 1')\n",
    "plt.ylabel('Feature 2')\n",
    "plt.title('KMeans Clustering')\n",
    "plt.show()"
   ]
  },
  {
   "cell_type": "code",
   "execution_count": null,
   "id": "a3c542a8-b94e-44b0-b6b6-e870531c45e7",
   "metadata": {},
   "outputs": [],
   "source": []
  },
  {
   "cell_type": "code",
   "execution_count": null,
   "id": "df4be971-c3ce-476d-b17b-7a6d8fa7d3e0",
   "metadata": {},
   "outputs": [],
   "source": []
  },
  {
   "cell_type": "code",
   "execution_count": null,
   "id": "d4cda72a-b121-4843-ac5d-2a79344c5da3",
   "metadata": {},
   "outputs": [],
   "source": []
  },
  {
   "cell_type": "code",
   "execution_count": null,
   "id": "0b6cf199-c944-4a2c-9dfe-7fa5ba41f012",
   "metadata": {},
   "outputs": [
    {
     "name": "stderr",
     "output_type": "stream",
     "text": [
      "c:\\Users\\comma\\AppData\\Local\\Programs\\Python\\Python311\\Lib\\site-packages\\plotly\\express\\_core.py:1979: FutureWarning:\n",
      "\n",
      "When grouping with a length-1 list-like, you will need to pass a length-1 tuple to get_group in a future version of pandas. Pass `(name,)` instead of `name` to silence this warning.\n",
      "\n"
     ]
    },
    {
     "data": {
      "application/vnd.plotly.v1+json": {
       "config": {
        "plotlyServerURL": "https://plot.ly"
       },
       "data": [
        {
         "hovertemplate": "species=setosa<br>sepal_length=%{x}<br>sepal_width=%{y}<br>petal_width=%{z}<extra></extra>",
         "legendgroup": "setosa",
         "marker": {
          "color": "#636efa",
          "symbol": "circle"
         },
         "mode": "markers",
         "name": "setosa",
         "scene": "scene",
         "showlegend": true,
         "type": "scatter3d",
         "x": [
          5.1,
          4.9,
          4.7,
          4.6,
          5,
          5.4,
          4.6,
          5,
          4.4,
          4.9,
          5.4,
          4.8,
          4.8,
          4.3,
          5.8,
          5.7,
          5.4,
          5.1,
          5.7,
          5.1,
          5.4,
          5.1,
          4.6,
          5.1,
          4.8,
          5,
          5,
          5.2,
          5.2,
          4.7,
          4.8,
          5.4,
          5.2,
          5.5,
          4.9,
          5,
          5.5,
          4.9,
          4.4,
          5.1,
          5,
          4.5,
          4.4,
          5,
          5.1,
          4.8,
          5.1,
          4.6,
          5.3,
          5
         ],
         "y": [
          3.5,
          3,
          3.2,
          3.1,
          3.6,
          3.9,
          3.4,
          3.4,
          2.9,
          3.1,
          3.7,
          3.4,
          3,
          3,
          4,
          4.4,
          3.9,
          3.5,
          3.8,
          3.8,
          3.4,
          3.7,
          3.6,
          3.3,
          3.4,
          3,
          3.4,
          3.5,
          3.4,
          3.2,
          3.1,
          3.4,
          4.1,
          4.2,
          3.1,
          3.2,
          3.5,
          3.1,
          3,
          3.4,
          3.5,
          2.3,
          3.2,
          3.5,
          3.8,
          3,
          3.8,
          3.2,
          3.7,
          3.3
         ],
         "z": [
          0.2,
          0.2,
          0.2,
          0.2,
          0.2,
          0.4,
          0.3,
          0.2,
          0.2,
          0.1,
          0.2,
          0.2,
          0.1,
          0.1,
          0.2,
          0.4,
          0.4,
          0.3,
          0.3,
          0.3,
          0.2,
          0.4,
          0.2,
          0.5,
          0.2,
          0.2,
          0.4,
          0.2,
          0.2,
          0.2,
          0.2,
          0.4,
          0.1,
          0.2,
          0.1,
          0.2,
          0.2,
          0.1,
          0.2,
          0.2,
          0.3,
          0.3,
          0.2,
          0.6,
          0.4,
          0.3,
          0.2,
          0.2,
          0.2,
          0.2
         ]
        },
        {
         "hovertemplate": "species=versicolor<br>sepal_length=%{x}<br>sepal_width=%{y}<br>petal_width=%{z}<extra></extra>",
         "legendgroup": "versicolor",
         "marker": {
          "color": "#EF553B",
          "symbol": "circle"
         },
         "mode": "markers",
         "name": "versicolor",
         "scene": "scene",
         "showlegend": true,
         "type": "scatter3d",
         "x": [
          7,
          6.4,
          6.9,
          5.5,
          6.5,
          5.7,
          6.3,
          4.9,
          6.6,
          5.2,
          5,
          5.9,
          6,
          6.1,
          5.6,
          6.7,
          5.6,
          5.8,
          6.2,
          5.6,
          5.9,
          6.1,
          6.3,
          6.1,
          6.4,
          6.6,
          6.8,
          6.7,
          6,
          5.7,
          5.5,
          5.5,
          5.8,
          6,
          5.4,
          6,
          6.7,
          6.3,
          5.6,
          5.5,
          5.5,
          6.1,
          5.8,
          5,
          5.6,
          5.7,
          5.7,
          6.2,
          5.1,
          5.7
         ],
         "y": [
          3.2,
          3.2,
          3.1,
          2.3,
          2.8,
          2.8,
          3.3,
          2.4,
          2.9,
          2.7,
          2,
          3,
          2.2,
          2.9,
          2.9,
          3.1,
          3,
          2.7,
          2.2,
          2.5,
          3.2,
          2.8,
          2.5,
          2.8,
          2.9,
          3,
          2.8,
          3,
          2.9,
          2.6,
          2.4,
          2.4,
          2.7,
          2.7,
          3,
          3.4,
          3.1,
          2.3,
          3,
          2.5,
          2.6,
          3,
          2.6,
          2.3,
          2.7,
          3,
          2.9,
          2.9,
          2.5,
          2.8
         ],
         "z": [
          1.4,
          1.5,
          1.5,
          1.3,
          1.5,
          1.3,
          1.6,
          1,
          1.3,
          1.4,
          1,
          1.5,
          1,
          1.4,
          1.3,
          1.4,
          1.5,
          1,
          1.5,
          1.1,
          1.8,
          1.3,
          1.5,
          1.2,
          1.3,
          1.4,
          1.4,
          1.7,
          1.5,
          1,
          1.1,
          1,
          1.2,
          1.6,
          1.5,
          1.6,
          1.5,
          1.3,
          1.3,
          1.3,
          1.2,
          1.4,
          1.2,
          1,
          1.3,
          1.2,
          1.3,
          1.3,
          1.1,
          1.3
         ]
        },
        {
         "hovertemplate": "species=virginica<br>sepal_length=%{x}<br>sepal_width=%{y}<br>petal_width=%{z}<extra></extra>",
         "legendgroup": "virginica",
         "marker": {
          "color": "#00cc96",
          "symbol": "circle"
         },
         "mode": "markers",
         "name": "virginica",
         "scene": "scene",
         "showlegend": true,
         "type": "scatter3d",
         "x": [
          6.3,
          5.8,
          7.1,
          6.3,
          6.5,
          7.6,
          4.9,
          7.3,
          6.7,
          7.2,
          6.5,
          6.4,
          6.8,
          5.7,
          5.8,
          6.4,
          6.5,
          7.7,
          7.7,
          6,
          6.9,
          5.6,
          7.7,
          6.3,
          6.7,
          7.2,
          6.2,
          6.1,
          6.4,
          7.2,
          7.4,
          7.9,
          6.4,
          6.3,
          6.1,
          7.7,
          6.3,
          6.4,
          6,
          6.9,
          6.7,
          6.9,
          5.8,
          6.8,
          6.7,
          6.7,
          6.3,
          6.5,
          6.2,
          5.9
         ],
         "y": [
          3.3,
          2.7,
          3,
          2.9,
          3,
          3,
          2.5,
          2.9,
          2.5,
          3.6,
          3.2,
          2.7,
          3,
          2.5,
          2.8,
          3.2,
          3,
          3.8,
          2.6,
          2.2,
          3.2,
          2.8,
          2.8,
          2.7,
          3.3,
          3.2,
          2.8,
          3,
          2.8,
          3,
          2.8,
          3.8,
          2.8,
          2.8,
          2.6,
          3,
          3.4,
          3.1,
          3,
          3.1,
          3.1,
          3.1,
          2.7,
          3.2,
          3.3,
          3,
          2.5,
          3,
          3.4,
          3
         ],
         "z": [
          2.5,
          1.9,
          2.1,
          1.8,
          2.2,
          2.1,
          1.7,
          1.8,
          1.8,
          2.5,
          2,
          1.9,
          2.1,
          2,
          2.4,
          2.3,
          1.8,
          2.2,
          2.3,
          1.5,
          2.3,
          2,
          2,
          1.8,
          2.1,
          1.8,
          1.8,
          1.8,
          2.1,
          1.6,
          1.9,
          2,
          2.2,
          1.5,
          1.4,
          2.3,
          2.4,
          1.8,
          1.8,
          2.1,
          2.4,
          2.3,
          1.9,
          2.3,
          2.5,
          2.3,
          1.9,
          2,
          2.3,
          1.8
         ]
        }
       ],
       "layout": {
        "legend": {
         "title": {
          "text": "species"
         },
         "tracegroupgap": 0
        },
        "margin": {
         "t": 60
        },
        "scene": {
         "domain": {
          "x": [
           0,
           1
          ],
          "y": [
           0,
           1
          ]
         },
         "xaxis": {
          "title": {
           "text": "sepal_length"
          }
         },
         "yaxis": {
          "title": {
           "text": "sepal_width"
          }
         },
         "zaxis": {
          "title": {
           "text": "petal_width"
          }
         }
        },
        "template": {
         "data": {
          "bar": [
           {
            "error_x": {
             "color": "#2a3f5f"
            },
            "error_y": {
             "color": "#2a3f5f"
            },
            "marker": {
             "line": {
              "color": "#E5ECF6",
              "width": 0.5
             },
             "pattern": {
              "fillmode": "overlay",
              "size": 10,
              "solidity": 0.2
             }
            },
            "type": "bar"
           }
          ],
          "barpolar": [
           {
            "marker": {
             "line": {
              "color": "#E5ECF6",
              "width": 0.5
             },
             "pattern": {
              "fillmode": "overlay",
              "size": 10,
              "solidity": 0.2
             }
            },
            "type": "barpolar"
           }
          ],
          "carpet": [
           {
            "aaxis": {
             "endlinecolor": "#2a3f5f",
             "gridcolor": "white",
             "linecolor": "white",
             "minorgridcolor": "white",
             "startlinecolor": "#2a3f5f"
            },
            "baxis": {
             "endlinecolor": "#2a3f5f",
             "gridcolor": "white",
             "linecolor": "white",
             "minorgridcolor": "white",
             "startlinecolor": "#2a3f5f"
            },
            "type": "carpet"
           }
          ],
          "choropleth": [
           {
            "colorbar": {
             "outlinewidth": 0,
             "ticks": ""
            },
            "type": "choropleth"
           }
          ],
          "contour": [
           {
            "colorbar": {
             "outlinewidth": 0,
             "ticks": ""
            },
            "colorscale": [
             [
              0,
              "#0d0887"
             ],
             [
              0.1111111111111111,
              "#46039f"
             ],
             [
              0.2222222222222222,
              "#7201a8"
             ],
             [
              0.3333333333333333,
              "#9c179e"
             ],
             [
              0.4444444444444444,
              "#bd3786"
             ],
             [
              0.5555555555555556,
              "#d8576b"
             ],
             [
              0.6666666666666666,
              "#ed7953"
             ],
             [
              0.7777777777777778,
              "#fb9f3a"
             ],
             [
              0.8888888888888888,
              "#fdca26"
             ],
             [
              1,
              "#f0f921"
             ]
            ],
            "type": "contour"
           }
          ],
          "contourcarpet": [
           {
            "colorbar": {
             "outlinewidth": 0,
             "ticks": ""
            },
            "type": "contourcarpet"
           }
          ],
          "heatmap": [
           {
            "colorbar": {
             "outlinewidth": 0,
             "ticks": ""
            },
            "colorscale": [
             [
              0,
              "#0d0887"
             ],
             [
              0.1111111111111111,
              "#46039f"
             ],
             [
              0.2222222222222222,
              "#7201a8"
             ],
             [
              0.3333333333333333,
              "#9c179e"
             ],
             [
              0.4444444444444444,
              "#bd3786"
             ],
             [
              0.5555555555555556,
              "#d8576b"
             ],
             [
              0.6666666666666666,
              "#ed7953"
             ],
             [
              0.7777777777777778,
              "#fb9f3a"
             ],
             [
              0.8888888888888888,
              "#fdca26"
             ],
             [
              1,
              "#f0f921"
             ]
            ],
            "type": "heatmap"
           }
          ],
          "heatmapgl": [
           {
            "colorbar": {
             "outlinewidth": 0,
             "ticks": ""
            },
            "colorscale": [
             [
              0,
              "#0d0887"
             ],
             [
              0.1111111111111111,
              "#46039f"
             ],
             [
              0.2222222222222222,
              "#7201a8"
             ],
             [
              0.3333333333333333,
              "#9c179e"
             ],
             [
              0.4444444444444444,
              "#bd3786"
             ],
             [
              0.5555555555555556,
              "#d8576b"
             ],
             [
              0.6666666666666666,
              "#ed7953"
             ],
             [
              0.7777777777777778,
              "#fb9f3a"
             ],
             [
              0.8888888888888888,
              "#fdca26"
             ],
             [
              1,
              "#f0f921"
             ]
            ],
            "type": "heatmapgl"
           }
          ],
          "histogram": [
           {
            "marker": {
             "pattern": {
              "fillmode": "overlay",
              "size": 10,
              "solidity": 0.2
             }
            },
            "type": "histogram"
           }
          ],
          "histogram2d": [
           {
            "colorbar": {
             "outlinewidth": 0,
             "ticks": ""
            },
            "colorscale": [
             [
              0,
              "#0d0887"
             ],
             [
              0.1111111111111111,
              "#46039f"
             ],
             [
              0.2222222222222222,
              "#7201a8"
             ],
             [
              0.3333333333333333,
              "#9c179e"
             ],
             [
              0.4444444444444444,
              "#bd3786"
             ],
             [
              0.5555555555555556,
              "#d8576b"
             ],
             [
              0.6666666666666666,
              "#ed7953"
             ],
             [
              0.7777777777777778,
              "#fb9f3a"
             ],
             [
              0.8888888888888888,
              "#fdca26"
             ],
             [
              1,
              "#f0f921"
             ]
            ],
            "type": "histogram2d"
           }
          ],
          "histogram2dcontour": [
           {
            "colorbar": {
             "outlinewidth": 0,
             "ticks": ""
            },
            "colorscale": [
             [
              0,
              "#0d0887"
             ],
             [
              0.1111111111111111,
              "#46039f"
             ],
             [
              0.2222222222222222,
              "#7201a8"
             ],
             [
              0.3333333333333333,
              "#9c179e"
             ],
             [
              0.4444444444444444,
              "#bd3786"
             ],
             [
              0.5555555555555556,
              "#d8576b"
             ],
             [
              0.6666666666666666,
              "#ed7953"
             ],
             [
              0.7777777777777778,
              "#fb9f3a"
             ],
             [
              0.8888888888888888,
              "#fdca26"
             ],
             [
              1,
              "#f0f921"
             ]
            ],
            "type": "histogram2dcontour"
           }
          ],
          "mesh3d": [
           {
            "colorbar": {
             "outlinewidth": 0,
             "ticks": ""
            },
            "type": "mesh3d"
           }
          ],
          "parcoords": [
           {
            "line": {
             "colorbar": {
              "outlinewidth": 0,
              "ticks": ""
             }
            },
            "type": "parcoords"
           }
          ],
          "pie": [
           {
            "automargin": true,
            "type": "pie"
           }
          ],
          "scatter": [
           {
            "fillpattern": {
             "fillmode": "overlay",
             "size": 10,
             "solidity": 0.2
            },
            "type": "scatter"
           }
          ],
          "scatter3d": [
           {
            "line": {
             "colorbar": {
              "outlinewidth": 0,
              "ticks": ""
             }
            },
            "marker": {
             "colorbar": {
              "outlinewidth": 0,
              "ticks": ""
             }
            },
            "type": "scatter3d"
           }
          ],
          "scattercarpet": [
           {
            "marker": {
             "colorbar": {
              "outlinewidth": 0,
              "ticks": ""
             }
            },
            "type": "scattercarpet"
           }
          ],
          "scattergeo": [
           {
            "marker": {
             "colorbar": {
              "outlinewidth": 0,
              "ticks": ""
             }
            },
            "type": "scattergeo"
           }
          ],
          "scattergl": [
           {
            "marker": {
             "colorbar": {
              "outlinewidth": 0,
              "ticks": ""
             }
            },
            "type": "scattergl"
           }
          ],
          "scattermapbox": [
           {
            "marker": {
             "colorbar": {
              "outlinewidth": 0,
              "ticks": ""
             }
            },
            "type": "scattermapbox"
           }
          ],
          "scatterpolar": [
           {
            "marker": {
             "colorbar": {
              "outlinewidth": 0,
              "ticks": ""
             }
            },
            "type": "scatterpolar"
           }
          ],
          "scatterpolargl": [
           {
            "marker": {
             "colorbar": {
              "outlinewidth": 0,
              "ticks": ""
             }
            },
            "type": "scatterpolargl"
           }
          ],
          "scatterternary": [
           {
            "marker": {
             "colorbar": {
              "outlinewidth": 0,
              "ticks": ""
             }
            },
            "type": "scatterternary"
           }
          ],
          "surface": [
           {
            "colorbar": {
             "outlinewidth": 0,
             "ticks": ""
            },
            "colorscale": [
             [
              0,
              "#0d0887"
             ],
             [
              0.1111111111111111,
              "#46039f"
             ],
             [
              0.2222222222222222,
              "#7201a8"
             ],
             [
              0.3333333333333333,
              "#9c179e"
             ],
             [
              0.4444444444444444,
              "#bd3786"
             ],
             [
              0.5555555555555556,
              "#d8576b"
             ],
             [
              0.6666666666666666,
              "#ed7953"
             ],
             [
              0.7777777777777778,
              "#fb9f3a"
             ],
             [
              0.8888888888888888,
              "#fdca26"
             ],
             [
              1,
              "#f0f921"
             ]
            ],
            "type": "surface"
           }
          ],
          "table": [
           {
            "cells": {
             "fill": {
              "color": "#EBF0F8"
             },
             "line": {
              "color": "white"
             }
            },
            "header": {
             "fill": {
              "color": "#C8D4E3"
             },
             "line": {
              "color": "white"
             }
            },
            "type": "table"
           }
          ]
         },
         "layout": {
          "annotationdefaults": {
           "arrowcolor": "#2a3f5f",
           "arrowhead": 0,
           "arrowwidth": 1
          },
          "autotypenumbers": "strict",
          "coloraxis": {
           "colorbar": {
            "outlinewidth": 0,
            "ticks": ""
           }
          },
          "colorscale": {
           "diverging": [
            [
             0,
             "#8e0152"
            ],
            [
             0.1,
             "#c51b7d"
            ],
            [
             0.2,
             "#de77ae"
            ],
            [
             0.3,
             "#f1b6da"
            ],
            [
             0.4,
             "#fde0ef"
            ],
            [
             0.5,
             "#f7f7f7"
            ],
            [
             0.6,
             "#e6f5d0"
            ],
            [
             0.7,
             "#b8e186"
            ],
            [
             0.8,
             "#7fbc41"
            ],
            [
             0.9,
             "#4d9221"
            ],
            [
             1,
             "#276419"
            ]
           ],
           "sequential": [
            [
             0,
             "#0d0887"
            ],
            [
             0.1111111111111111,
             "#46039f"
            ],
            [
             0.2222222222222222,
             "#7201a8"
            ],
            [
             0.3333333333333333,
             "#9c179e"
            ],
            [
             0.4444444444444444,
             "#bd3786"
            ],
            [
             0.5555555555555556,
             "#d8576b"
            ],
            [
             0.6666666666666666,
             "#ed7953"
            ],
            [
             0.7777777777777778,
             "#fb9f3a"
            ],
            [
             0.8888888888888888,
             "#fdca26"
            ],
            [
             1,
             "#f0f921"
            ]
           ],
           "sequentialminus": [
            [
             0,
             "#0d0887"
            ],
            [
             0.1111111111111111,
             "#46039f"
            ],
            [
             0.2222222222222222,
             "#7201a8"
            ],
            [
             0.3333333333333333,
             "#9c179e"
            ],
            [
             0.4444444444444444,
             "#bd3786"
            ],
            [
             0.5555555555555556,
             "#d8576b"
            ],
            [
             0.6666666666666666,
             "#ed7953"
            ],
            [
             0.7777777777777778,
             "#fb9f3a"
            ],
            [
             0.8888888888888888,
             "#fdca26"
            ],
            [
             1,
             "#f0f921"
            ]
           ]
          },
          "colorway": [
           "#636efa",
           "#EF553B",
           "#00cc96",
           "#ab63fa",
           "#FFA15A",
           "#19d3f3",
           "#FF6692",
           "#B6E880",
           "#FF97FF",
           "#FECB52"
          ],
          "font": {
           "color": "#2a3f5f"
          },
          "geo": {
           "bgcolor": "white",
           "lakecolor": "white",
           "landcolor": "#E5ECF6",
           "showlakes": true,
           "showland": true,
           "subunitcolor": "white"
          },
          "hoverlabel": {
           "align": "left"
          },
          "hovermode": "closest",
          "mapbox": {
           "style": "light"
          },
          "paper_bgcolor": "white",
          "plot_bgcolor": "#E5ECF6",
          "polar": {
           "angularaxis": {
            "gridcolor": "white",
            "linecolor": "white",
            "ticks": ""
           },
           "bgcolor": "#E5ECF6",
           "radialaxis": {
            "gridcolor": "white",
            "linecolor": "white",
            "ticks": ""
           }
          },
          "scene": {
           "xaxis": {
            "backgroundcolor": "#E5ECF6",
            "gridcolor": "white",
            "gridwidth": 2,
            "linecolor": "white",
            "showbackground": true,
            "ticks": "",
            "zerolinecolor": "white"
           },
           "yaxis": {
            "backgroundcolor": "#E5ECF6",
            "gridcolor": "white",
            "gridwidth": 2,
            "linecolor": "white",
            "showbackground": true,
            "ticks": "",
            "zerolinecolor": "white"
           },
           "zaxis": {
            "backgroundcolor": "#E5ECF6",
            "gridcolor": "white",
            "gridwidth": 2,
            "linecolor": "white",
            "showbackground": true,
            "ticks": "",
            "zerolinecolor": "white"
           }
          },
          "shapedefaults": {
           "line": {
            "color": "#2a3f5f"
           }
          },
          "ternary": {
           "aaxis": {
            "gridcolor": "white",
            "linecolor": "white",
            "ticks": ""
           },
           "baxis": {
            "gridcolor": "white",
            "linecolor": "white",
            "ticks": ""
           },
           "bgcolor": "#E5ECF6",
           "caxis": {
            "gridcolor": "white",
            "linecolor": "white",
            "ticks": ""
           }
          },
          "title": {
           "x": 0.05
          },
          "xaxis": {
           "automargin": true,
           "gridcolor": "white",
           "linecolor": "white",
           "ticks": "",
           "title": {
            "standoff": 15
           },
           "zerolinecolor": "white",
           "zerolinewidth": 2
          },
          "yaxis": {
           "automargin": true,
           "gridcolor": "white",
           "linecolor": "white",
           "ticks": "",
           "title": {
            "standoff": 15
           },
           "zerolinecolor": "white",
           "zerolinewidth": 2
          }
         }
        }
       }
      }
     },
     "metadata": {},
     "output_type": "display_data"
    }
   ],
   "source": [
    "#3D PRINT\n",
    "import plotly.express as px\n",
    "df = px.data.iris()\n",
    "fig = px.scatter_3d(df, x='sepal_length', y='sepal_width', z='petal_width',\n",
    "              color='species')\n",
    "fig.show()"
   ]
  },
  {
   "cell_type": "code",
   "execution_count": null,
   "id": "10933a34-0ee4-4829-92eb-017e63d82693",
   "metadata": {},
   "outputs": [],
   "source": []
  },
  {
   "cell_type": "code",
   "execution_count": null,
   "id": "44eddee5-7428-4d6e-8842-fc6a09b41303",
   "metadata": {},
   "outputs": [],
   "source": []
  },
  {
   "cell_type": "code",
   "execution_count": null,
   "id": "55a3ed4b-1ac6-4ed1-b250-39cc59a0d8ad",
   "metadata": {},
   "outputs": [],
   "source": []
  },
  {
   "cell_type": "code",
   "execution_count": null,
   "id": "ebbe26ea",
   "metadata": {},
   "outputs": [],
   "source": []
  },
  {
   "cell_type": "code",
   "execution_count": null,
   "id": "f0a6dc3f",
   "metadata": {},
   "outputs": [],
   "source": []
  },
  {
   "cell_type": "code",
   "execution_count": null,
   "id": "c89c282a",
   "metadata": {},
   "outputs": [
    {
     "ename": "InvalidArgumentError",
     "evalue": "cannot compute MatMul as input #1(zero-based) was expected to be a double tensor but is a float tensor [Op:MatMul] name: ",
     "output_type": "error",
     "traceback": [
      "\u001b[1;31m---------------------------------------------------------------------------\u001b[0m",
      "\u001b[1;31mInvalidArgumentError\u001b[0m                      Traceback (most recent call last)",
      "Cell \u001b[1;32mIn[19], line 49\u001b[0m\n\u001b[0;32m     46\u001b[0m             rbm\u001b[38;5;241m.\u001b[39mb_visible\u001b[38;5;241m.\u001b[39massign_add(\u001b[38;5;241m0.1\u001b[39m \u001b[38;5;241m*\u001b[39m tf\u001b[38;5;241m.\u001b[39mreduce_mean(visible_prob \u001b[38;5;241m-\u001b[39m new_visible_prob, axis\u001b[38;5;241m=\u001b[39m\u001b[38;5;241m0\u001b[39m))\n\u001b[0;32m     47\u001b[0m             rbm\u001b[38;5;241m.\u001b[39mb_hidden\u001b[38;5;241m.\u001b[39massign_add(\u001b[38;5;241m0.1\u001b[39m \u001b[38;5;241m*\u001b[39m tf\u001b[38;5;241m.\u001b[39mreduce_mean(hidden_prob \u001b[38;5;241m-\u001b[39m hidden_prob, axis\u001b[38;5;241m=\u001b[39m\u001b[38;5;241m0\u001b[39m))\n\u001b[1;32m---> 49\u001b[0m \u001b[43mtrain_rbm\u001b[49m\u001b[43m(\u001b[49m\u001b[43mrbm1\u001b[49m\u001b[43m,\u001b[49m\u001b[43m \u001b[49m\u001b[43mx_train\u001b[49m\u001b[43m,\u001b[49m\u001b[43m \u001b[49m\u001b[43mepochs\u001b[49m\u001b[38;5;241;43m=\u001b[39;49m\u001b[38;5;241;43m10\u001b[39;49m\u001b[43m)\u001b[49m\n\u001b[0;32m     50\u001b[0m train_rbm(rbm2, rbm1\u001b[38;5;241m.\u001b[39msample_hidden(x_train)[\u001b[38;5;241m0\u001b[39m], epochs\u001b[38;5;241m=\u001b[39m\u001b[38;5;241m10\u001b[39m)\n\u001b[0;32m     52\u001b[0m \u001b[38;5;66;03m# Stack RBMs to form a deep belief network\u001b[39;00m\n",
      "Cell \u001b[1;32mIn[19], line 39\u001b[0m, in \u001b[0;36mtrain_rbm\u001b[1;34m(rbm, x_train, epochs, batch_size)\u001b[0m\n\u001b[0;32m     37\u001b[0m batch \u001b[38;5;241m=\u001b[39m x_train[i:i\u001b[38;5;241m+\u001b[39mbatch_size]\n\u001b[0;32m     38\u001b[0m visible_prob \u001b[38;5;241m=\u001b[39m batch\n\u001b[1;32m---> 39\u001b[0m hidden_prob, _ \u001b[38;5;241m=\u001b[39m \u001b[43mrbm\u001b[49m\u001b[38;5;241;43m.\u001b[39;49m\u001b[43msample_hidden\u001b[49m\u001b[43m(\u001b[49m\u001b[43mvisible_prob\u001b[49m\u001b[43m)\u001b[49m\n\u001b[0;32m     40\u001b[0m new_visible_prob, _ \u001b[38;5;241m=\u001b[39m rbm\u001b[38;5;241m.\u001b[39msample_visible(hidden_prob)\n\u001b[0;32m     42\u001b[0m positive_grad \u001b[38;5;241m=\u001b[39m tf\u001b[38;5;241m.\u001b[39mmatmul(tf\u001b[38;5;241m.\u001b[39mtranspose(visible_prob), hidden_prob)\n",
      "Cell \u001b[1;32mIn[19], line 22\u001b[0m, in \u001b[0;36mRBM.sample_hidden\u001b[1;34m(self, visible_prob)\u001b[0m\n\u001b[0;32m     21\u001b[0m \u001b[38;5;28;01mdef\u001b[39;00m \u001b[38;5;21msample_hidden\u001b[39m(\u001b[38;5;28mself\u001b[39m, visible_prob):\n\u001b[1;32m---> 22\u001b[0m     hidden_prob \u001b[38;5;241m=\u001b[39m tf\u001b[38;5;241m.\u001b[39mnn\u001b[38;5;241m.\u001b[39msigmoid(\u001b[43mtf\u001b[49m\u001b[38;5;241;43m.\u001b[39;49m\u001b[43mmatmul\u001b[49m\u001b[43m(\u001b[49m\u001b[43mvisible_prob\u001b[49m\u001b[43m,\u001b[49m\u001b[43m \u001b[49m\u001b[38;5;28;43mself\u001b[39;49m\u001b[38;5;241;43m.\u001b[39;49m\u001b[43mW\u001b[49m\u001b[43m)\u001b[49m \u001b[38;5;241m+\u001b[39m \u001b[38;5;28mself\u001b[39m\u001b[38;5;241m.\u001b[39mb_hidden)\n\u001b[0;32m     23\u001b[0m     \u001b[38;5;28;01mreturn\u001b[39;00m hidden_prob, tf\u001b[38;5;241m.\u001b[39mcast(tf\u001b[38;5;241m.\u001b[39mrandom\u001b[38;5;241m.\u001b[39muniform(tf\u001b[38;5;241m.\u001b[39mshape(hidden_prob)) \u001b[38;5;241m<\u001b[39m hidden_prob, tf\u001b[38;5;241m.\u001b[39mfloat32)\n",
      "File \u001b[1;32mc:\\Users\\comma\\AppData\\Local\\Programs\\Python\\Python311\\Lib\\site-packages\\tensorflow\\python\\ops\\weak_tensor_ops.py:142\u001b[0m, in \u001b[0;36mweak_tensor_binary_op_wrapper.<locals>.wrapper\u001b[1;34m(*args, **kwargs)\u001b[0m\n\u001b[0;32m    140\u001b[0m \u001b[38;5;28;01mdef\u001b[39;00m \u001b[38;5;21mwrapper\u001b[39m(\u001b[38;5;241m*\u001b[39margs, \u001b[38;5;241m*\u001b[39m\u001b[38;5;241m*\u001b[39mkwargs):\n\u001b[0;32m    141\u001b[0m   \u001b[38;5;28;01mif\u001b[39;00m \u001b[38;5;129;01mnot\u001b[39;00m ops\u001b[38;5;241m.\u001b[39mis_auto_dtype_conversion_enabled():\n\u001b[1;32m--> 142\u001b[0m     \u001b[38;5;28;01mreturn\u001b[39;00m \u001b[43mop\u001b[49m\u001b[43m(\u001b[49m\u001b[38;5;241;43m*\u001b[39;49m\u001b[43margs\u001b[49m\u001b[43m,\u001b[49m\u001b[43m \u001b[49m\u001b[38;5;241;43m*\u001b[39;49m\u001b[38;5;241;43m*\u001b[39;49m\u001b[43mkwargs\u001b[49m\u001b[43m)\u001b[49m\n\u001b[0;32m    143\u001b[0m   bound_arguments \u001b[38;5;241m=\u001b[39m signature\u001b[38;5;241m.\u001b[39mbind(\u001b[38;5;241m*\u001b[39margs, \u001b[38;5;241m*\u001b[39m\u001b[38;5;241m*\u001b[39mkwargs)\n\u001b[0;32m    144\u001b[0m   bound_arguments\u001b[38;5;241m.\u001b[39mapply_defaults()\n",
      "File \u001b[1;32mc:\\Users\\comma\\AppData\\Local\\Programs\\Python\\Python311\\Lib\\site-packages\\tensorflow\\python\\util\\traceback_utils.py:153\u001b[0m, in \u001b[0;36mfilter_traceback.<locals>.error_handler\u001b[1;34m(*args, **kwargs)\u001b[0m\n\u001b[0;32m    151\u001b[0m \u001b[38;5;28;01mexcept\u001b[39;00m \u001b[38;5;167;01mException\u001b[39;00m \u001b[38;5;28;01mas\u001b[39;00m e:\n\u001b[0;32m    152\u001b[0m   filtered_tb \u001b[38;5;241m=\u001b[39m _process_traceback_frames(e\u001b[38;5;241m.\u001b[39m__traceback__)\n\u001b[1;32m--> 153\u001b[0m   \u001b[38;5;28;01mraise\u001b[39;00m e\u001b[38;5;241m.\u001b[39mwith_traceback(filtered_tb) \u001b[38;5;28;01mfrom\u001b[39;00m \u001b[38;5;28;01mNone\u001b[39;00m\n\u001b[0;32m    154\u001b[0m \u001b[38;5;28;01mfinally\u001b[39;00m:\n\u001b[0;32m    155\u001b[0m   \u001b[38;5;28;01mdel\u001b[39;00m filtered_tb\n",
      "File \u001b[1;32mc:\\Users\\comma\\AppData\\Local\\Programs\\Python\\Python311\\Lib\\site-packages\\tensorflow\\python\\framework\\ops.py:5983\u001b[0m, in \u001b[0;36mraise_from_not_ok_status\u001b[1;34m(e, name)\u001b[0m\n\u001b[0;32m   5981\u001b[0m \u001b[38;5;28;01mdef\u001b[39;00m \u001b[38;5;21mraise_from_not_ok_status\u001b[39m(e, name) \u001b[38;5;241m-\u001b[39m\u001b[38;5;241m>\u001b[39m NoReturn:\n\u001b[0;32m   5982\u001b[0m   e\u001b[38;5;241m.\u001b[39mmessage \u001b[38;5;241m+\u001b[39m\u001b[38;5;241m=\u001b[39m (\u001b[38;5;124m\"\u001b[39m\u001b[38;5;124m name: \u001b[39m\u001b[38;5;124m\"\u001b[39m \u001b[38;5;241m+\u001b[39m \u001b[38;5;28mstr\u001b[39m(name \u001b[38;5;28;01mif\u001b[39;00m name \u001b[38;5;129;01mis\u001b[39;00m \u001b[38;5;129;01mnot\u001b[39;00m \u001b[38;5;28;01mNone\u001b[39;00m \u001b[38;5;28;01melse\u001b[39;00m \u001b[38;5;124m\"\u001b[39m\u001b[38;5;124m\"\u001b[39m))\n\u001b[1;32m-> 5983\u001b[0m   \u001b[38;5;28;01mraise\u001b[39;00m core\u001b[38;5;241m.\u001b[39m_status_to_exception(e) \u001b[38;5;28;01mfrom\u001b[39;00m \u001b[38;5;28;01mNone\u001b[39;00m\n",
      "\u001b[1;31mInvalidArgumentError\u001b[0m: cannot compute MatMul as input #1(zero-based) was expected to be a double tensor but is a float tensor [Op:MatMul] name: "
     ]
    }
   ],
   "source": [
    "import numpy as np\n",
    "import tensorflow as tf\n",
    "from tensorflow.keras.layers import Dense\n",
    "from tensorflow.keras.models import Sequential\n",
    "from tensorflow.keras.datasets import mnist\n",
    "\n",
    "# Load and preprocess the data\n",
    "(x_train, y_train), (x_test, y_test) = mnist.load_data()\n",
    "x_train = x_train.reshape(-1, 28*28) / 255.0\n",
    "x_test = x_test.reshape(-1, 28*28) / 255.0\n",
    "\n",
    "# Define RBM class\n",
    "class RBM:\n",
    "    def __init__(self, visible_dim, hidden_dim):\n",
    "        self.visible_dim = visible_dim\n",
    "        self.hidden_dim = hidden_dim\n",
    "        self.W = tf.Variable(tf.random.normal([visible_dim, hidden_dim], mean=0.0, stddev=0.01), name=\"weights\")\n",
    "        self.b_visible = tf.Variable(tf.zeros([visible_dim]), name=\"visible_bias\")\n",
    "        self.b_hidden = tf.Variable(tf.zeros([hidden_dim]), name=\"hidden_bias\")\n",
    "\n",
    "    def sample_hidden(self, visible_prob):\n",
    "        hidden_prob = tf.nn.sigmoid(tf.matmul(visible_prob, self.W) + self.b_hidden)\n",
    "        return hidden_prob, tf.cast(tf.random.uniform(tf.shape(hidden_prob)) < hidden_prob, tf.float32)\n",
    "\n",
    "    def sample_visible(self, hidden_prob):\n",
    "        visible_prob = tf.nn.sigmoid(tf.matmul(hidden_prob, tf.transpose(self.W)) + self.b_visible)\n",
    "        return visible_prob, tf.cast(tf.random.uniform(tf.shape(visible_prob)) < visible_prob, tf.float32)\n",
    "\n",
    "# Create RBM layers\n",
    "rbm1 = RBM(visible_dim=28*28, hidden_dim=500)\n",
    "rbm2 = RBM(visible_dim=500, hidden_dim=500)\n",
    "\n",
    "# Train RBMs layer by layer\n",
    "def train_rbm(rbm, x_train, epochs=10, batch_size=64):\n",
    "    for epoch in range(epochs):\n",
    "        for i in range(0, len(x_train), batch_size):\n",
    "            batch = x_train[i:i+batch_size]\n",
    "            visible_prob = batch\n",
    "            hidden_prob, _ = rbm.sample_hidden(visible_prob)\n",
    "            new_visible_prob, _ = rbm.sample_visible(hidden_prob)\n",
    "            \n",
    "            positive_grad = tf.matmul(tf.transpose(visible_prob), hidden_prob)\n",
    "            negative_grad = tf.matmul(tf.transpose(new_visible_prob), hidden_prob)\n",
    "            \n",
    "            rbm.W.assign_add(0.1 * (positive_grad - negative_grad) / tf.cast(tf.shape(batch)[0], tf.float32))\n",
    "            rbm.b_visible.assign_add(0.1 * tf.reduce_mean(visible_prob - new_visible_prob, axis=0))\n",
    "            rbm.b_hidden.assign_add(0.1 * tf.reduce_mean(hidden_prob - hidden_prob, axis=0))\n",
    "\n",
    "train_rbm(rbm1, x_train, epochs=10)\n",
    "train_rbm(rbm2, rbm1.sample_hidden(x_train)[0], epochs=10)\n",
    "\n",
    "# Stack RBMs to form a deep belief network\n",
    "class DBN:\n",
    "    def __init__(self, rbm1, rbm2):\n",
    "        self.rbm1 = rbm1\n",
    "        self.rbm2 = rbm2\n",
    "        self.model = Sequential([\n",
    "            Dense(rbm1.hidden_dim, activation='sigmoid', input_shape=(28*28,)),\n",
    "            Dense(rbm2.hidden_dim, activation='sigmoid')\n",
    "        ])\n",
    "        self.model.layers[0].set_weights([rbm1.W.numpy().T, rbm1.b_hidden.numpy()])\n",
    "        self.model.layers[1].set_weights([rbm2.W.numpy().T, rbm2.b_hidden.numpy()])\n",
    "\n",
    "# Fine-tune the network using supervised learning\n",
    "def fine_tune(dbn, x_train, y_train, epochs=10):\n",
    "    dbn.model.compile(optimizer='adam', loss='sparse_categorical_crossentropy', metrics=['accuracy'])\n",
    "    dbn.model.fit(x_train, y_train, epochs=epochs, batch_size=64)\n",
    "\n",
    "dbn = DBN(rbm1, rbm2)\n",
    "fine_tune(dbn, x_train, y_train, epochs=10)\n",
    "\n",
    "# Evaluate the model\n",
    "loss, accuracy = dbn.model.evaluate(x_test, y_test)\n",
    "print(\"Test Accuracy:\", accuracy)\n"
   ]
  }
 ],
 "metadata": {
  "kernelspec": {
   "display_name": "Python 3 (ipykernel)",
   "language": "python",
   "name": "python3"
  },
  "language_info": {
   "codemirror_mode": {
    "name": "ipython",
    "version": 3
   },
   "file_extension": ".py",
   "mimetype": "text/x-python",
   "name": "python",
   "nbconvert_exporter": "python",
   "pygments_lexer": "ipython3",
   "version": "3.11.1"
  }
 },
 "nbformat": 4,
 "nbformat_minor": 5
}
