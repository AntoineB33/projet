{
 "cells": [
  {
   "cell_type": "code",
   "execution_count": 2,
   "metadata": {},
   "outputs": [],
   "source": [
    "#importer les librairies\n",
    "import os\n",
    "import cv2\n",
    "import pandas as pd\n",
    "import numpy as np\n",
    "import matplotlib.pyplot as plt\n",
    "import seaborn as sns\n",
    "import skimage as skimage\n",
    "%matplotlib inline\n",
    "from xgboost import XGBClassifier\n",
    "import xgboost as xgb\n",
    "from sklearn.model_selection import train_test_split\n",
    "from skimage.feature import hog\n",
    "from sklearn.metrics import accuracy_score\n",
    "from sklearn.preprocessing import LabelEncoder"
   ]
  },
  {
   "cell_type": "code",
   "execution_count": 3,
   "metadata": {},
   "outputs": [],
   "source": [
    "#constant\n",
    "image_height = 350\n",
    "image_width = 350"
   ]
  },
  {
   "cell_type": "code",
   "execution_count": 4,
   "metadata": {},
   "outputs": [],
   "source": [
    "# importer les donnees\n",
    "\n",
    "def extract_image_data(src_folder):\n",
    "    image_data = []\n",
    "    labels = []\n",
    "    \n",
    "    for label in os.listdir(src_folder):\n",
    "        label_folder = os.path.join(src_folder, label)\n",
    "        if os.path.isdir(label_folder):\n",
    "            for image_file in os.listdir(label_folder):\n",
    "                image_path = os.path.join(label_folder, image_file)\n",
    "                image = cv2.imread(image_path)\n",
    "                image = cv2.resize(image, (image_height,image_width))  # Resize image if necessary\n",
    "                image_data.append(image.flatten())  # Flatten image and add to data\n",
    "                labels.append(label)  # Add corresponding label\n",
    "\n",
    "    return np.array(image_data), np.array(labels)\n",
    "\n"
   ]
  },
  {
   "cell_type": "code",
   "execution_count": 6,
   "metadata": {},
   "outputs": [
    {
     "ename": "NameError",
     "evalue": "name 'folder_path' is not defined",
     "output_type": "error",
     "traceback": [
      "\u001b[1;31m---------------------------------------------------------------------------\u001b[0m",
      "\u001b[1;31mNameError\u001b[0m                                 Traceback (most recent call last)",
      "Cell \u001b[1;32mIn[6], line 3\u001b[0m\n\u001b[0;32m      1\u001b[0m \u001b[38;5;66;03m# data, labels = extract_image_data(\"C:/Users/Airperssone/Downloads/data/data/val\")\u001b[39;00m\n\u001b[0;32m      2\u001b[0m \u001b[38;5;28;01mfrom\u001b[39;00m \u001b[38;5;21;01mimages\u001b[39;00m \u001b[38;5;28;01mimport\u001b[39;00m load_images_from_folder\n\u001b[1;32m----> 3\u001b[0m data, labels, folder_names, smallest_height, smallest_width, smallest_height2, smallest_width2 \u001b[38;5;241m=\u001b[39m load_images_from_folder(\u001b[43mfolder_path\u001b[49m)\n",
      "\u001b[1;31mNameError\u001b[0m: name 'folder_path' is not defined"
     ]
    }
   ],
   "source": [
    "# data, labels = extract_image_data(\"C:/Users/Airperssone/Downloads/data/data/val\")\n",
    "from images import load_images_from_folder\n",
    "data, labels, folder_names, smallest_height, smallest_width, smallest_height2, smallest_width2 = load_images_from_folder(folder_path)"
   ]
  },
  {
   "cell_type": "code",
   "execution_count": null,
   "metadata": {},
   "outputs": [],
   "source": [
    "# transformer la data avec les descripteurs\n",
    "def extract_hog_features(images):\n",
    "    features = []\n",
    "    for image in images:\n",
    "        feature = hog(skimage.color.rgb2gray(image.reshape((image_height, image_width, 3))))  # Extract HOG features\n",
    "        features.append(feature)\n",
    "    return np.array(features)"
   ]
  },
  {
   "cell_type": "code",
   "execution_count": null,
   "metadata": {},
   "outputs": [],
   "source": [
    "hog_data = extract_hog_features(data)"
   ]
  },
  {
   "cell_type": "code",
   "execution_count": null,
   "metadata": {},
   "outputs": [],
   "source": [
    "label_encoder = LabelEncoder()"
   ]
  },
  {
   "cell_type": "code",
   "execution_count": null,
   "metadata": {},
   "outputs": [],
   "source": [
    "labels_encoded = label_encoder.fit_transform(labels)"
   ]
  },
  {
   "cell_type": "code",
   "execution_count": null,
   "metadata": {},
   "outputs": [],
   "source": [
    "#donner la data du descripteur pour entrainer le modele\n",
    "X_train, X_test, y_train, y_test = train_test_split(hog_data, labels_encoded, test_size=0.2, random_state=42)"
   ]
  },
  {
   "cell_type": "code",
   "execution_count": null,
   "metadata": {},
   "outputs": [],
   "source": [
    "params = {\n",
    "    'objective': 'multi:softmax', \n",
    "    'num_class': len(np.unique(labels_encoded)),\n",
    "    'eta': 0.1,  # Decrease learning rate [0.01-0.3] Lower values make the model more robust but require more boosting rounds.\n",
    "    'max_depth': 8,  # Adjust max depth of trees [3-10] Higher values allow the model to capture more complex interactions in the data but can lead to overfitting.\n",
    "    'num_boost_round': 100,  # Increase number of boosting rounds [50-500]\n",
    "    'subsample': 0.75,  # Reduce subsample ratio [0.5-1] Lower values introduce more randomness and can prevent overfitting.\n",
    "    'colsample_bytree': 0.85,  # Reduce column subsample ratio [0.5-1] Lower values introduce more randomness in feature selection.\n",
    "    'lambda': 10,  # L2 regularization term [0-10+] Higher values add more regularization to prevent overfitting.\n",
    "    'alpha': 10  # L1 regularization term [0-10+] Higher values add more regularization to prevent overfitting.\n",
    "}"
   ]
  },
  {
   "cell_type": "code",
   "execution_count": null,
   "metadata": {},
   "outputs": [],
   "source": [
    "dtrain = xgb.DMatrix(X_train, label=y_train)\n",
    "dtest = xgb.DMatrix(X_test, label=y_test)"
   ]
  },
  {
   "cell_type": "code",
   "execution_count": null,
   "metadata": {},
   "outputs": [
    {
     "name": "stderr",
     "output_type": "stream",
     "text": [
      "C:\\Users\\Airperssone\\AppData\\Local\\Packages\\PythonSoftwareFoundation.Python.3.11_qbz5n2kfra8p0\\LocalCache\\local-packages\\Python311\\site-packages\\xgboost\\core.py:160: UserWarning: [02:59:06] WARNING: C:\\buildkite-agent\\builds\\buildkite-windows-cpu-autoscaling-group-i-0b3782d1791676daf-1\\xgboost\\xgboost-ci-windows\\src\\learner.cc:742: \n",
      "Parameters: { \"num_boost_round\" } are not used.\n",
      "\n",
      "  warnings.warn(smsg, UserWarning)\n"
     ]
    }
   ],
   "source": [
    "bst = xgb.train(params, dtrain, num_boost_round=params['num_boost_round'])"
   ]
  },
  {
   "cell_type": "code",
   "execution_count": null,
   "metadata": {},
   "outputs": [
    {
     "name": "stdout",
     "output_type": "stream",
     "text": [
      "Accuracy: 0.07853403141361257\n",
      "Trainning Score (show overfitting): 0.9986910994764397\n"
     ]
    }
   ],
   "source": [
    "#obtention des scores de précision\n",
    "preds = bst.predict(dtest)\n",
    "overfitting_score = bst.predict(dtrain)\n",
    "accuracy = accuracy_score(y_test, preds)\n",
    "overfitting_accuracy = accuracy_score(y_train, overfitting_score)\n",
    "print(\"Accuracy:\", accuracy)\n",
    "print(\"Trainning Score (show overfitting):\", overfitting_accuracy)"
   ]
  },
  {
   "cell_type": "code",
   "execution_count": null,
   "metadata": {},
   "outputs": [
    {
     "data": {
      "text/plain": [
       "array([16.,  5., 18.,  3.,  2., 12., 19.,  7., 15., 11., 13., 10.,  1.,\n",
       "       14.,  7., 18., 16., 17., 10.,  6.,  2.,  9.,  9., 11.,  7., 17.,\n",
       "        3.,  1., 19., 11., 16.,  0., 14.,  3.,  7., 17., 12., 11.,  3.,\n",
       "       14.,  1.,  6., 10., 10.,  1., 19., 12.,  8.,  1.,  8.,  9., 11.,\n",
       "        5., 16.,  3., 12.,  3., 11.,  1., 18., 14.,  8., 18., 16., 14.,\n",
       "        4., 11., 14.,  9.,  9., 16., 16.,  1.,  9.,  7., 12., 17.,  9.,\n",
       "       18.,  2., 13.,  1., 10.,  3.,  6.,  3., 10.,  0.,  2., 10.,  3.,\n",
       "        2.,  2., 11.,  3., 14.,  3., 11.,  2., 11.,  1., 12.,  0.,  6.,\n",
       "       10.,  9.,  0.,  9.,  9.,  0., 15., 10.,  1.,  2., 12., 11.,  3.,\n",
       "       18., 13.,  5., 11., 16.,  7., 10.,  2.,  1., 10.,  8.,  3., 15.,\n",
       "        0., 18., 19., 11.,  4.,  6., 13., 14.,  8.,  4., 16.,  6., 12.,\n",
       "       12., 16., 17., 17.,  2., 11.,  7.,  0., 18., 17., 10.,  1., 18.,\n",
       "        9.,  9., 18.,  9., 17.,  3., 17.,  0.,  3., 10.,  2., 19.,  8.,\n",
       "       10.,  8.,  7.,  7., 19.,  8., 11., 14., 16.,  9.,  0.,  4., 13.,\n",
       "       10., 18.,  0., 11.,  0.,  9., 10., 14., 11.], dtype=float32)"
      ]
     },
     "execution_count": 148,
     "metadata": {},
     "output_type": "execute_result"
    }
   ],
   "source": [
    "preds"
   ]
  },
  {
   "cell_type": "code",
   "execution_count": null,
   "metadata": {},
   "outputs": [
    {
     "data": {
      "text/plain": [
       "array([ 3,  8, 14, 15,  7, 11, 17, 10,  9,  3,  4, 10,  1, 16, 14,  1, 18,\n",
       "        7,  2,  8,  9, 13,  9,  9,  0, 13, 10, 17, 12,  0, 19, 12,  7,  5,\n",
       "        1,  2,  5,  2,  8, 15,  0,  6, 10, 12,  1,  6,  4,  5,  1,  3,  5,\n",
       "        1,  6, 18, 15, 15, 17,  7, 16,  5,  6,  5, 19,  6,  3,  1, 16, 12,\n",
       "       17,  6, 18,  8,  1,  6, 19, 19, 13, 10, 15, 16, 13, 10, 11, 18, 18,\n",
       "        4, 11, 10,  3, 10, 17,  5,  9, 12,  6, 14,  1, 10,  0, 19, 13, 11,\n",
       "       11,  4,  5, 13, 15,  5,  5,  6,  6, 19,  2, 10,  7, 14, 10, 18,  6,\n",
       "       12,  1,  9, 17, 12, 13, 16,  7,  1,  7, 11, 18, 14, 10,  5,  2, 18,\n",
       "        8, 16,  9,  4, 18,  7,  7, 11, 18, 11,  2, 16,  6, 12, 14,  3, 10,\n",
       "        3, 11, 18, 19,  1, 12,  5,  4,  4, 12, 10,  8,  1,  2, 16,  7,  6,\n",
       "       12, 13,  7,  7,  8, 18,  0, 14,  9,  4, 18, 16,  6, 19, 16, 10,  0,\n",
       "        0, 14,  6,  9], dtype=int64)"
      ]
     },
     "execution_count": 149,
     "metadata": {},
     "output_type": "execute_result"
    }
   ],
   "source": [
    "y_test"
   ]
  },
  {
   "cell_type": "code",
   "execution_count": null,
   "metadata": {},
   "outputs": [],
   "source": [
    "#comparaison et visualisation"
   ]
  },
  {
   "cell_type": "code",
   "execution_count": null,
   "metadata": {},
   "outputs": [],
   "source": []
  }
 ],
 "metadata": {
  "kernelspec": {
   "display_name": "Python 3",
   "language": "python",
   "name": "python3"
  },
  "language_info": {
   "codemirror_mode": {
    "name": "ipython",
    "version": 3
   },
   "file_extension": ".py",
   "mimetype": "text/x-python",
   "name": "python",
   "nbconvert_exporter": "python",
   "pygments_lexer": "ipython3",
   "version": "3.11.1"
  }
 },
 "nbformat": 4,
 "nbformat_minor": 2
}
