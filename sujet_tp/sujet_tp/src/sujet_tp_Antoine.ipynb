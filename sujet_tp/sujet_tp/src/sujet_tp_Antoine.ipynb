{
 "cells": [
  {
   "cell_type": "markdown",
   "id": "1dbd7ba6-680c-4c00-a2ac-848d59d3aff5",
   "metadata": {},
   "source": [
    "# Clustering d'Images avec Scikit-learn et Visualisation avec Streamlit\n",
    "\n",
    "Le clustering est une technique d'apprentissage non supervisé qui permet de regrouper des données similaires en différents groupes ou clusters. Dans le contexte de l'analyse d'images, le clustering peut être utilisé pour segmenter des images, détecter des objets ou des régions d'intérêt, et comprendre la structure des données d'image. Ce TP vous guidera à travers le processus de clustering d'un ensemble d'images de chiffres manuscrits en utilisant l'algorithme K-Means et l'extraction de caractéristiques HOG et d'histogrammes de niveaux de gris. Vous visualiserez ensuite les résultats du clustering à l'aide de la bibliothèque Streamlit.\n",
    "\n",
    "\n",
    "À la fin de ce TP, vous aurez une compréhension pratique du processus de clustering d'images, de l'extraction de caractéristiques, de l'évaluation des performances et de la visualisation des résultats à l'aide de Streamlit. Ces compétences sont précieuses dans de nombreux domaines tels que la vision par ordinateur, le traitement d'images médicales, l'analyse de données d'imagerie satellitaire, et bien d'autres.\n"
   ]
  },
  {
   "cell_type": "code",
   "execution_count": null,
   "id": "09912a9b",
   "metadata": {},
   "outputs": [],
   "source": []
  },
  {
   "cell_type": "code",
   "execution_count": 7,
   "id": "c2d755ad",
   "metadata": {},
   "outputs": [],
   "source": [
    "from sklearn.preprocessing import StandardScaler\n",
    "import os\n",
    "import pandas as pd\n",
    "import numpy as np\n",
    "from sklearn import datasets\n",
    "import matplotlib.pyplot as plt\n",
    "import plotly.express as px\n",
    "from features import *\n",
    "from clustering import *\n",
    "from utils import *\n",
    "from constant import  PATH_OUTPUT, MODEL_CLUSTERING, PATH_DATA_ALL"
   ]
  },
  {
   "cell_type": "markdown",
   "id": "9b19d94b-0134-496a-82b0-5b4aa0a3dfa7",
   "metadata": {},
   "source": [
    "\n",
    "## Partie 1 : Création du modèle de clustering d'images\n",
    "#### (fichier pipeline.py)\n",
    "\n",
    "**1. Chargement des données d'images de chiffres manuscrits à partir du dataset Digits.**\n",
    "   - Vous utiliserez le célèbre dataset Digitis qui contient des images de chiffres manuscrits. Ce dataset est souvent utilisé pour tester des algorithmes de reconnaissance de chiffres et d'apprentissage automatique.\n",
    "\n"
   ]
  },
  {
   "cell_type": "code",
   "execution_count": 3,
   "id": "cbf8e76a-5f20-42bf-b931-a269635f3de4",
   "metadata": {
    "tags": []
   },
   "outputs": [
    {
     "name": "stdout",
     "output_type": "stream",
     "text": [
      "##### Chargement des données ######\n"
     ]
    }
   ],
   "source": [
    "print(\"##### Chargement des données ######\")"
   ]
  },
  {
   "cell_type": "code",
   "execution_count": 8,
   "id": "571d75d8-a51c-4ec5-bb14-75b5a811d80b",
   "metadata": {
    "tags": []
   },
   "outputs": [],
   "source": [
    "# GET IMAGES\n",
    "import os\n",
    "from PIL import Image\n",
    "import numpy as np\n",
    "\n",
    "def load_images_from_folder(folder):\n",
    "    images = []\n",
    "    folder_numbers = []\n",
    "    folder_names = []\n",
    "    for folder_number, sub_folder in enumerate(sorted(os.listdir(folder))):\n",
    "        sub_folder_path = os.path.join(folder, sub_folder)\n",
    "        if os.path.isdir(sub_folder_path):\n",
    "            folder_names.append(sub_folder)\n",
    "            for filename in sorted(os.listdir(sub_folder_path)):\n",
    "                img_path = os.path.join(sub_folder_path, filename)\n",
    "                if os.path.isfile(img_path):\n",
    "                    img = Image.open(img_path)\n",
    "                    img_matrix = np.array(img)\n",
    "                    images.append(img_matrix)\n",
    "                    folder_numbers.append(folder_number)\n",
    "    return images, folder_numbers, folder_names\n",
    "\n",
    "# Example usage:\n",
    "folder_path = PATH_DATA_ALL + \"/code_test\"\n",
    "images, folder_numbers, folder_names = load_images_from_folder(folder_path)\n",
    "\n",
    "# Now you have a list of images as matrices and a corresponding list of folder numbers.\n",
    "# Each image in the 'images' list corresponds to the folder number in the 'folder_numbers' list."
   ]
  },
  {
   "cell_type": "markdown",
   "id": "eb8e35eb-c5a6-468a-a725-c8b15fff0747",
   "metadata": {},
   "source": [
    "**2. Extraction des caractéristiques HOG (Histogrammes de Gradients Orientés) et des histogrammes de niveaux de gris à partir des images.**\n",
    "   - Les caractéristiques HOG capturent les informations de gradient et de bords dans les images, ce qui les rend utiles pour la reconnaissance d'objets et de formes.\n",
    "   - Les histogrammes de niveaux de gris représentent la distribution des intensités de pixels dans l'image, fournissant des informations sur la texture et les motifs.\n",
    "\n",
    "**TODO :**\n",
    "   - Implémentez les fonctions `compute_hog_descriptors` et `compute_gray_histograms` dans  le fichier `features.py`, utilisez respectivement les fonctions `hog` de  la librairie `skimage` et  `calcHist` de `cv2`.\n",
    "   - lien HOG : https://scikit-image.org/docs/stable/auto_examples/features_detection/plot_hog.html\n",
    "   - lien  histogrammes de niveaux de gris : https://pyimagesearch.com/2021/04/28/opencv-image-histograms-cv2-calchist/\n",
    "   "
   ]
  },
  {
   "cell_type": "code",
   "execution_count": null,
   "id": "19233c48-b58c-4674-9d8b-1b3bdbdf5976",
   "metadata": {
    "tags": []
   },
   "outputs": [],
   "source": [
    "\n",
    "print(\"\\n\\n ##### Extraction de Features ######\")\n",
    "print(\"- calcul features hog...\")\n",
    "descriptors_hog = compute_hog_descriptors(images)\n",
    "print(\"- calcul features Histogram...\")\n",
    "descriptors_hist = compute_gray_histograms(images)"
   ]
  },
  {
   "cell_type": "markdown",
   "id": "6c041906-7aa1-464a-97d3-e961976c56a2",
   "metadata": {},
   "source": [
    "\n",
    "**3. Application de l'algorithme K-Means sur les caractéristiques extraites pour obtenir les clusters.**\n",
    "   - L'algorithme K-Means est un algorithme de clustering populaire qui partitionne les données en K clusters en minimisant la somme des carrés des distances entre les points de données et les centroïdes des clusters.\n",
    "   \n",
    "   \n",
    " \n",
    " **TODO :**\n",
    "   - Dans le fichier `clustering.py` implémentez les fonctions `initialize_centers()`, `nearest_cluster()` et `fit()` du KMeans.\n",
    "   "
   ]
  },
  {
   "cell_type": "code",
   "execution_count": null,
   "id": "828857ee-a9eb-456d-afe3-5ec3a9aabc7c",
   "metadata": {
    "tags": []
   },
   "outputs": [],
   "source": [
    "print(\"\\n\\n ##### Clustering ######\")\n",
    "print(np.array(descriptors_hog)[0])\n",
    "number_cluster = 10\n",
    "kmeans_hog = KMeans(n_clusters=number_cluster)\n",
    "kmeans_hist = KMeans(n_clusters=number_cluster)\n",
    "\n",
    "print(\"- calcul kmeans avec features HOG ...\")\n",
    "kmeans_hog.fit(np.array(descriptors_hog))\n",
    "print(\"- calcul kmeans avec features Histogram...\")\n",
    "kmeans_hist.fit(np.array(descriptors_hist))"
   ]
  },
  {
   "cell_type": "markdown",
   "id": "bac53ab9-35f5-463d-b1f1-23a97b0deda3",
   "metadata": {},
   "source": [
    "**4. Évaluation des performances du clustering en utilisant des métriques**\n",
    "- Score AMI (Adjusted Mutual Information) : \n",
    "    Le score AMI renvoie une valeur de 1 lorsque les deux partitions sont identiques (c'est-à-dire parfaitement appariées). Les partitions aléatoires (étiquetages indépendants) ont un score attendu autour de 0.\n",
    "    "
   ]
  },
  {
   "cell_type": "markdown",
   "id": "3aa4d497-034b-4fa3-a9fe-7c4c603c75df",
   "metadata": {
    "tags": []
   },
   "source": [
    "**5. Conversion des données de clustering au format requis pour la visualisation avec Streamlit.**\n",
    "\n",
    "**TODO :**\n",
    "- Dans le fichier `utils.py`, implémenter la fonction `conversion_3d` afin de convertir un vecteur de dimension n vers une dimension 3 pour a visualisation.\n",
    "- Lien : https://scikit-learn.org/stable/modules/generated/sklearn.manifold.TSNE.html"
   ]
  },
  {
   "cell_type": "code",
   "execution_count": null,
   "id": "2c6bd3b8-fdf5-44dd-9598-bb6bf78be66c",
   "metadata": {
    "tags": []
   },
   "outputs": [],
   "source": [
    "list_dict = [metric_hist,metric_hog]\n",
    "df_metric = pd.DataFrame(list_dict)\n",
    "\n",
    "scaler = StandardScaler()\n",
    "descriptors_hist_norm = scaler.fit_transform(descriptors_hist)\n",
    "descriptors_hog_norm = scaler.fit_transform(descriptors_hog)\n",
    "\n",
    "#conversion vers un format 3D pour la visualisation\n",
    "x_3d_hist = conversion_3d(descriptors_hist_norm)\n",
    "x_3d_hog = conversion_3d(descriptors_hog_norm)\n",
    "\n",
    "# création des dataframe pour la sauvegarde des données pour la visualisation\n",
    "df_hist = create_df_to_export(x_3d_hist, labels_true, kmeans_hist.labels_)\n",
    "df_hog = create_df_to_export(x_3d_hog, labels_true, kmeans_hog.labels_)\n",
    "\n",
    "# Vérifie si le dossier existe déjà\n",
    "if not os.path.exists(PATH_OUTPUT):\n",
    "    # Crée le dossier\n",
    "    os.makedirs(PATH_OUTPUT)\n",
    "\n",
    "# sauvegarde des données\n",
    "df_hist.to_excel(PATH_OUTPUT+\"/save_clustering_hist_kmeans.xlsx\")\n",
    "df_hog.to_excel(PATH_OUTPUT+\"/save_clustering_hog_kmeans.xlsx\")\n",
    "df_metric.to_excel(PATH_OUTPUT+\"/save_metric.xlsx\")\n",
    "\n",
    "\n"
   ]
  },
  {
   "cell_type": "code",
   "execution_count": null,
   "id": "80e39c33-376c-4343-b684-f329c308934a",
   "metadata": {
    "tags": []
   },
   "outputs": [],
   "source": [
    "import matplotlib.pyplot as plt\n",
    "import plotly.express as px"
   ]
  },
  {
   "cell_type": "code",
   "execution_count": null,
   "id": "a019c6f6-5f7e-4a08-9e55-27d051cc1c93",
   "metadata": {
    "tags": []
   },
   "outputs": [],
   "source": [
    "graph_size = 300\n"
   ]
  },
  {
   "cell_type": "markdown",
   "id": "a500c3ef-eaa5-43b0-8a0f-738dd659a6d3",
   "metadata": {
    "tags": []
   },
   "source": [
    "***3. Finalisation du fichier dashboard_clustering.py***\n",
    "\n",
    "***TODO :***\n",
    "- Ajoutez les graphiques dans le fichier, puis lancez la commande :  `streamlit run dashboard_clustering.py `"
   ]
  },
  {
   "cell_type": "markdown",
   "id": "c1da43ae",
   "metadata": {},
   "source": []
  }
 ],
 "metadata": {
  "kernelspec": {
   "display_name": "Python 3 (ipykernel)",
   "language": "python",
   "name": "python3"
  },
  "language_info": {
   "codemirror_mode": {
    "name": "ipython",
    "version": 3
   },
   "file_extension": ".py",
   "mimetype": "text/x-python",
   "name": "python",
   "nbconvert_exporter": "python",
   "pygments_lexer": "ipython3",
   "version": "3.11.1"
  }
 },
 "nbformat": 4,
 "nbformat_minor": 5
}
